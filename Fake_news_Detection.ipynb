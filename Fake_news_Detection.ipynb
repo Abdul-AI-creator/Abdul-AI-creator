{
  "cells": [
    {
      "cell_type": "markdown",
      "metadata": {
        "id": "view-in-github",
        "colab_type": "text"
      },
      "source": [
        "<a href=\"https://colab.research.google.com/github/Abdul-AI-creator/Abdul-AI-creator/blob/main/Fake_news_Detection.ipynb\" target=\"_parent\"><img src=\"https://colab.research.google.com/assets/colab-badge.svg\" alt=\"Open In Colab\"/></a>"
      ]
    },
    {
      "cell_type": "code",
      "execution_count": null,
      "id": "e84f55bb-79bc-47f6-8467-7833e23cae4f",
      "metadata": {
        "id": "e84f55bb-79bc-47f6-8467-7833e23cae4f"
      },
      "outputs": [],
      "source": [
        "import numpy as np\n",
        "from sklearn.model_selection import train_test_split\n",
        "from sklearn.feature_extraction.text import TfidfVectorizer # tf =term frequency , idf = inverse document frequency\n",
        "from sklearn.svm import LinearSVC"
      ]
    },
    {
      "cell_type": "code",
      "execution_count": null,
      "id": "f42aafce-9e80-476d-a05e-2fc49e07f0cf",
      "metadata": {
        "id": "f42aafce-9e80-476d-a05e-2fc49e07f0cf",
        "outputId": "5a7c70a0-4858-4883-9fe5-48f7e981c020"
      },
      "outputs": [
        {
          "name": "stdout",
          "output_type": "stream",
          "text": [
            "Skipping, found downloaded files in \".\\fake-or-real-news\" (use force=True to force download)\n"
          ]
        }
      ],
      "source": [
        "import opendatasets as od\n",
        "od.download('https://www.kaggle.com/datasets/uppalaputarunkumar/fake-or-real-news')"
      ]
    },
    {
      "cell_type": "code",
      "execution_count": null,
      "id": "407b8a10-2884-4365-b13a-0134858964f1",
      "metadata": {
        "id": "407b8a10-2884-4365-b13a-0134858964f1",
        "outputId": "0a3c61ac-47b3-4e71-9fd2-3a43aa703456"
      },
      "outputs": [
        {
          "data": {
            "text/plain": [
              "['fake_or_real_news.csv']"
            ]
          },
          "execution_count": 83,
          "metadata": {},
          "output_type": "execute_result"
        }
      ],
      "source": [
        "os.listdir('fake-or-real-news')"
      ]
    },
    {
      "cell_type": "code",
      "execution_count": null,
      "id": "87c1d021-9d38-41cc-8181-71f530e07d5f",
      "metadata": {
        "id": "87c1d021-9d38-41cc-8181-71f530e07d5f",
        "outputId": "2b9302fe-e415-45da-a01e-f95d113d6b10"
      },
      "outputs": [
        {
          "data": {
            "text/html": [
              "<div>\n",
              "<style scoped>\n",
              "    .dataframe tbody tr th:only-of-type {\n",
              "        vertical-align: middle;\n",
              "    }\n",
              "\n",
              "    .dataframe tbody tr th {\n",
              "        vertical-align: top;\n",
              "    }\n",
              "\n",
              "    .dataframe thead th {\n",
              "        text-align: right;\n",
              "    }\n",
              "</style>\n",
              "<table border=\"1\" class=\"dataframe\">\n",
              "  <thead>\n",
              "    <tr style=\"text-align: right;\">\n",
              "      <th></th>\n",
              "      <th>Unnamed: 0</th>\n",
              "      <th>title</th>\n",
              "      <th>text</th>\n",
              "      <th>label</th>\n",
              "    </tr>\n",
              "  </thead>\n",
              "  <tbody>\n",
              "    <tr>\n",
              "      <th>0</th>\n",
              "      <td>8476</td>\n",
              "      <td>You Can Smell Hillary’s Fear</td>\n",
              "      <td>Daniel Greenfield, a Shillman Journalism Fello...</td>\n",
              "      <td>FAKE</td>\n",
              "    </tr>\n",
              "    <tr>\n",
              "      <th>1</th>\n",
              "      <td>10294</td>\n",
              "      <td>Watch The Exact Moment Paul Ryan Committed Pol...</td>\n",
              "      <td>Google Pinterest Digg Linkedin Reddit Stumbleu...</td>\n",
              "      <td>FAKE</td>\n",
              "    </tr>\n",
              "    <tr>\n",
              "      <th>2</th>\n",
              "      <td>3608</td>\n",
              "      <td>Kerry to go to Paris in gesture of sympathy</td>\n",
              "      <td>U.S. Secretary of State John F. Kerry said Mon...</td>\n",
              "      <td>REAL</td>\n",
              "    </tr>\n",
              "    <tr>\n",
              "      <th>3</th>\n",
              "      <td>10142</td>\n",
              "      <td>Bernie supporters on Twitter erupt in anger ag...</td>\n",
              "      <td>— Kaydee King (@KaydeeKing) November 9, 2016 T...</td>\n",
              "      <td>FAKE</td>\n",
              "    </tr>\n",
              "    <tr>\n",
              "      <th>4</th>\n",
              "      <td>875</td>\n",
              "      <td>The Battle of New York: Why This Primary Matters</td>\n",
              "      <td>It's primary day in New York and front-runners...</td>\n",
              "      <td>REAL</td>\n",
              "    </tr>\n",
              "  </tbody>\n",
              "</table>\n",
              "</div>"
            ],
            "text/plain": [
              "   Unnamed: 0                                              title  \\\n",
              "0        8476                       You Can Smell Hillary’s Fear   \n",
              "1       10294  Watch The Exact Moment Paul Ryan Committed Pol...   \n",
              "2        3608        Kerry to go to Paris in gesture of sympathy   \n",
              "3       10142  Bernie supporters on Twitter erupt in anger ag...   \n",
              "4         875   The Battle of New York: Why This Primary Matters   \n",
              "\n",
              "                                                text label  \n",
              "0  Daniel Greenfield, a Shillman Journalism Fello...  FAKE  \n",
              "1  Google Pinterest Digg Linkedin Reddit Stumbleu...  FAKE  \n",
              "2  U.S. Secretary of State John F. Kerry said Mon...  REAL  \n",
              "3  — Kaydee King (@KaydeeKing) November 9, 2016 T...  FAKE  \n",
              "4  It's primary day in New York and front-runners...  REAL  "
            ]
          },
          "execution_count": 84,
          "metadata": {},
          "output_type": "execute_result"
        }
      ],
      "source": [
        "\n",
        "import os\n",
        "import pandas as pd\n",
        "\n",
        "fake_df = pd.read_csv('fake-or-real-news/fake_or_real_news.csv',low_memory=False)\n",
        "fake_df.head()"
      ]
    },
    {
      "cell_type": "code",
      "execution_count": null,
      "id": "4d830d03-ae85-4281-afe3-7b9298debbb4",
      "metadata": {
        "id": "4d830d03-ae85-4281-afe3-7b9298debbb4",
        "outputId": "fcfc8be8-e45d-4a9a-a95e-2bae1beb0910"
      },
      "outputs": [
        {
          "name": "stdout",
          "output_type": "stream",
          "text": [
            "<class 'pandas.core.frame.DataFrame'>\n",
            "RangeIndex: 6335 entries, 0 to 6334\n",
            "Data columns (total 4 columns):\n",
            " #   Column      Non-Null Count  Dtype \n",
            "---  ------      --------------  ----- \n",
            " 0   Unnamed: 0  6335 non-null   int64 \n",
            " 1   title       6335 non-null   object\n",
            " 2   text        6335 non-null   object\n",
            " 3   label       6335 non-null   object\n",
            "dtypes: int64(1), object(3)\n",
            "memory usage: 198.1+ KB\n"
          ]
        }
      ],
      "source": [
        "fake_df.info()"
      ]
    },
    {
      "cell_type": "code",
      "execution_count": null,
      "id": "23d67542-accf-4962-8237-db8e5572292e",
      "metadata": {
        "id": "23d67542-accf-4962-8237-db8e5572292e"
      },
      "outputs": [],
      "source": [
        "fake_df['fake'] = fake_df['label'].apply(lambda x: 0 if x == \"REAL\" else 1)"
      ]
    },
    {
      "cell_type": "code",
      "execution_count": null,
      "id": "4aa84079-6a72-43ca-bc84-95d8b480a4d5",
      "metadata": {
        "id": "4aa84079-6a72-43ca-bc84-95d8b480a4d5"
      },
      "outputs": [],
      "source": [
        "fake_df=fake_df.drop('label',axis=1)"
      ]
    },
    {
      "cell_type": "code",
      "execution_count": null,
      "id": "5d5bcac9-2629-4b34-844b-b9bb810ffefe",
      "metadata": {
        "id": "5d5bcac9-2629-4b34-844b-b9bb810ffefe",
        "outputId": "f544b7c5-cfe9-47dd-d2fe-398d0fb8f40e"
      },
      "outputs": [
        {
          "data": {
            "text/html": [
              "<div>\n",
              "<style scoped>\n",
              "    .dataframe tbody tr th:only-of-type {\n",
              "        vertical-align: middle;\n",
              "    }\n",
              "\n",
              "    .dataframe tbody tr th {\n",
              "        vertical-align: top;\n",
              "    }\n",
              "\n",
              "    .dataframe thead th {\n",
              "        text-align: right;\n",
              "    }\n",
              "</style>\n",
              "<table border=\"1\" class=\"dataframe\">\n",
              "  <thead>\n",
              "    <tr style=\"text-align: right;\">\n",
              "      <th></th>\n",
              "      <th>Unnamed: 0</th>\n",
              "      <th>title</th>\n",
              "      <th>text</th>\n",
              "      <th>fake</th>\n",
              "    </tr>\n",
              "  </thead>\n",
              "  <tbody>\n",
              "    <tr>\n",
              "      <th>0</th>\n",
              "      <td>8476</td>\n",
              "      <td>You Can Smell Hillary’s Fear</td>\n",
              "      <td>Daniel Greenfield, a Shillman Journalism Fello...</td>\n",
              "      <td>1</td>\n",
              "    </tr>\n",
              "    <tr>\n",
              "      <th>1</th>\n",
              "      <td>10294</td>\n",
              "      <td>Watch The Exact Moment Paul Ryan Committed Pol...</td>\n",
              "      <td>Google Pinterest Digg Linkedin Reddit Stumbleu...</td>\n",
              "      <td>1</td>\n",
              "    </tr>\n",
              "    <tr>\n",
              "      <th>2</th>\n",
              "      <td>3608</td>\n",
              "      <td>Kerry to go to Paris in gesture of sympathy</td>\n",
              "      <td>U.S. Secretary of State John F. Kerry said Mon...</td>\n",
              "      <td>0</td>\n",
              "    </tr>\n",
              "    <tr>\n",
              "      <th>3</th>\n",
              "      <td>10142</td>\n",
              "      <td>Bernie supporters on Twitter erupt in anger ag...</td>\n",
              "      <td>— Kaydee King (@KaydeeKing) November 9, 2016 T...</td>\n",
              "      <td>1</td>\n",
              "    </tr>\n",
              "    <tr>\n",
              "      <th>4</th>\n",
              "      <td>875</td>\n",
              "      <td>The Battle of New York: Why This Primary Matters</td>\n",
              "      <td>It's primary day in New York and front-runners...</td>\n",
              "      <td>0</td>\n",
              "    </tr>\n",
              "    <tr>\n",
              "      <th>...</th>\n",
              "      <td>...</td>\n",
              "      <td>...</td>\n",
              "      <td>...</td>\n",
              "      <td>...</td>\n",
              "    </tr>\n",
              "    <tr>\n",
              "      <th>6330</th>\n",
              "      <td>4490</td>\n",
              "      <td>State Department says it can't find emails fro...</td>\n",
              "      <td>The State Department told the Republican Natio...</td>\n",
              "      <td>0</td>\n",
              "    </tr>\n",
              "    <tr>\n",
              "      <th>6331</th>\n",
              "      <td>8062</td>\n",
              "      <td>The ‘P’ in PBS Should Stand for ‘Plutocratic’ ...</td>\n",
              "      <td>The ‘P’ in PBS Should Stand for ‘Plutocratic’ ...</td>\n",
              "      <td>1</td>\n",
              "    </tr>\n",
              "    <tr>\n",
              "      <th>6332</th>\n",
              "      <td>8622</td>\n",
              "      <td>Anti-Trump Protesters Are Tools of the Oligarc...</td>\n",
              "      <td>Anti-Trump Protesters Are Tools of the Oligar...</td>\n",
              "      <td>1</td>\n",
              "    </tr>\n",
              "    <tr>\n",
              "      <th>6333</th>\n",
              "      <td>4021</td>\n",
              "      <td>In Ethiopia, Obama seeks progress on peace, se...</td>\n",
              "      <td>ADDIS ABABA, Ethiopia —President Obama convene...</td>\n",
              "      <td>0</td>\n",
              "    </tr>\n",
              "    <tr>\n",
              "      <th>6334</th>\n",
              "      <td>4330</td>\n",
              "      <td>Jeb Bush Is Suddenly Attacking Trump. Here's W...</td>\n",
              "      <td>Jeb Bush Is Suddenly Attacking Trump. Here's W...</td>\n",
              "      <td>0</td>\n",
              "    </tr>\n",
              "  </tbody>\n",
              "</table>\n",
              "<p>6335 rows × 4 columns</p>\n",
              "</div>"
            ],
            "text/plain": [
              "      Unnamed: 0                                              title  \\\n",
              "0           8476                       You Can Smell Hillary’s Fear   \n",
              "1          10294  Watch The Exact Moment Paul Ryan Committed Pol...   \n",
              "2           3608        Kerry to go to Paris in gesture of sympathy   \n",
              "3          10142  Bernie supporters on Twitter erupt in anger ag...   \n",
              "4            875   The Battle of New York: Why This Primary Matters   \n",
              "...          ...                                                ...   \n",
              "6330        4490  State Department says it can't find emails fro...   \n",
              "6331        8062  The ‘P’ in PBS Should Stand for ‘Plutocratic’ ...   \n",
              "6332        8622  Anti-Trump Protesters Are Tools of the Oligarc...   \n",
              "6333        4021  In Ethiopia, Obama seeks progress on peace, se...   \n",
              "6334        4330  Jeb Bush Is Suddenly Attacking Trump. Here's W...   \n",
              "\n",
              "                                                   text  fake  \n",
              "0     Daniel Greenfield, a Shillman Journalism Fello...     1  \n",
              "1     Google Pinterest Digg Linkedin Reddit Stumbleu...     1  \n",
              "2     U.S. Secretary of State John F. Kerry said Mon...     0  \n",
              "3     — Kaydee King (@KaydeeKing) November 9, 2016 T...     1  \n",
              "4     It's primary day in New York and front-runners...     0  \n",
              "...                                                 ...   ...  \n",
              "6330  The State Department told the Republican Natio...     0  \n",
              "6331  The ‘P’ in PBS Should Stand for ‘Plutocratic’ ...     1  \n",
              "6332   Anti-Trump Protesters Are Tools of the Oligar...     1  \n",
              "6333  ADDIS ABABA, Ethiopia —President Obama convene...     0  \n",
              "6334  Jeb Bush Is Suddenly Attacking Trump. Here's W...     0  \n",
              "\n",
              "[6335 rows x 4 columns]"
            ]
          },
          "execution_count": 88,
          "metadata": {},
          "output_type": "execute_result"
        }
      ],
      "source": [
        "fake_df"
      ]
    },
    {
      "cell_type": "code",
      "execution_count": null,
      "id": "4522abc8-3e78-4b15-a20b-b52d3dd38433",
      "metadata": {
        "id": "4522abc8-3e78-4b15-a20b-b52d3dd38433"
      },
      "outputs": [],
      "source": [
        "x, y =fake_df['text'], fake_df['fake']"
      ]
    },
    {
      "cell_type": "code",
      "execution_count": null,
      "id": "3a83fb2e-6bab-4daa-b241-94460519093d",
      "metadata": {
        "id": "3a83fb2e-6bab-4daa-b241-94460519093d",
        "outputId": "1ceaf227-d029-4571-b4b1-8bcad0a828f3"
      },
      "outputs": [
        {
          "data": {
            "text/plain": [
              "0       Daniel Greenfield, a Shillman Journalism Fello...\n",
              "1       Google Pinterest Digg Linkedin Reddit Stumbleu...\n",
              "2       U.S. Secretary of State John F. Kerry said Mon...\n",
              "3       — Kaydee King (@KaydeeKing) November 9, 2016 T...\n",
              "4       It's primary day in New York and front-runners...\n",
              "                              ...                        \n",
              "6330    The State Department told the Republican Natio...\n",
              "6331    The ‘P’ in PBS Should Stand for ‘Plutocratic’ ...\n",
              "6332     Anti-Trump Protesters Are Tools of the Oligar...\n",
              "6333    ADDIS ABABA, Ethiopia —President Obama convene...\n",
              "6334    Jeb Bush Is Suddenly Attacking Trump. Here's W...\n",
              "Name: text, Length: 6335, dtype: object"
            ]
          },
          "execution_count": 90,
          "metadata": {},
          "output_type": "execute_result"
        }
      ],
      "source": [
        "x"
      ]
    },
    {
      "cell_type": "code",
      "execution_count": null,
      "id": "9a1bcfd1-b0f7-4354-93cb-bf21d7aff6fe",
      "metadata": {
        "id": "9a1bcfd1-b0f7-4354-93cb-bf21d7aff6fe",
        "outputId": "bf7a3a30-33dd-4cff-8cfb-1e53ef2adc81"
      },
      "outputs": [
        {
          "data": {
            "text/plain": [
              "0       1\n",
              "1       1\n",
              "2       0\n",
              "3       1\n",
              "4       0\n",
              "       ..\n",
              "6330    0\n",
              "6331    1\n",
              "6332    1\n",
              "6333    0\n",
              "6334    0\n",
              "Name: fake, Length: 6335, dtype: int64"
            ]
          },
          "execution_count": 91,
          "metadata": {},
          "output_type": "execute_result"
        }
      ],
      "source": [
        "y"
      ]
    },
    {
      "cell_type": "code",
      "execution_count": null,
      "id": "ad3aa4ca-7c8f-4ecd-8ab0-14ae3c35f32c",
      "metadata": {
        "id": "ad3aa4ca-7c8f-4ecd-8ab0-14ae3c35f32c"
      },
      "outputs": [],
      "source": [
        "x_train,x_test, y_train,y_test = train_test_split(x,y, test_size =0.2 )"
      ]
    },
    {
      "cell_type": "code",
      "execution_count": null,
      "id": "91cf1e64-86a9-4fa1-a0e1-479bedeef4ee",
      "metadata": {
        "id": "91cf1e64-86a9-4fa1-a0e1-479bedeef4ee",
        "outputId": "2b011a50-637b-46c3-945e-c67be753094e"
      },
      "outputs": [
        {
          "name": "stdout",
          "output_type": "stream",
          "text": [
            "[0 1]\n"
          ]
        }
      ],
      "source": [
        "print(np.unique(y_train))"
      ]
    },
    {
      "cell_type": "code",
      "execution_count": null,
      "id": "f5078242-a892-466b-a5d2-14a76f3ed835",
      "metadata": {
        "id": "f5078242-a892-466b-a5d2-14a76f3ed835",
        "outputId": "6890d0be-ebdd-47eb-84b2-3938ef1942ee"
      },
      "outputs": [
        {
          "data": {
            "text/plain": [
              "5166    0\n",
              "1650    1\n",
              "2085    1\n",
              "2903    1\n",
              "3103    1\n",
              "       ..\n",
              "3445    1\n",
              "5678    1\n",
              "1483    0\n",
              "1537    1\n",
              "2247    1\n",
              "Name: fake, Length: 5068, dtype: int64"
            ]
          },
          "execution_count": 96,
          "metadata": {},
          "output_type": "execute_result"
        }
      ],
      "source": [
        "y_train"
      ]
    },
    {
      "cell_type": "code",
      "execution_count": null,
      "id": "43da8335-1fe0-4603-80cc-0239a3e9d6e9",
      "metadata": {
        "id": "43da8335-1fe0-4603-80cc-0239a3e9d6e9",
        "outputId": "9f2656af-3e0f-42c1-a164-0796534bb534"
      },
      "outputs": [
        {
          "data": {
            "text/plain": [
              "5068"
            ]
          },
          "execution_count": 97,
          "metadata": {},
          "output_type": "execute_result"
        }
      ],
      "source": [
        "len(x_train) # 80%"
      ]
    },
    {
      "cell_type": "code",
      "execution_count": null,
      "id": "3e5b8dbf-c412-4893-9b99-fa84b261d5db",
      "metadata": {
        "id": "3e5b8dbf-c412-4893-9b99-fa84b261d5db",
        "outputId": "8bbd8424-c58e-4b26-ab2d-c6a2f9a481d7"
      },
      "outputs": [
        {
          "data": {
            "text/plain": [
              "1267"
            ]
          },
          "execution_count": 98,
          "metadata": {},
          "output_type": "execute_result"
        }
      ],
      "source": [
        "len(x_test) #20%"
      ]
    },
    {
      "cell_type": "code",
      "execution_count": null,
      "id": "91ca1efe-ce3c-4cdd-b134-46567b7e6d85",
      "metadata": {
        "id": "91ca1efe-ce3c-4cdd-b134-46567b7e6d85"
      },
      "outputs": [],
      "source": [
        "vectorizer = TfidfVectorizer(stop_words='english',max_df =0.7)\n",
        "x_train_vectorizer = vectorizer.fit_transform(x_train)\n",
        "x_test_vectorizer = vectorizer.transform(x_test)"
      ]
    },
    {
      "cell_type": "code",
      "execution_count": null,
      "id": "32baf756-4513-453c-9515-d8187c06e2a1",
      "metadata": {
        "id": "32baf756-4513-453c-9515-d8187c06e2a1",
        "outputId": "c1ad2a87-afa2-48b9-f3c9-a0431fd873e1"
      },
      "outputs": [
        {
          "data": {
            "text/plain": [
              "<5068x61361 sparse matrix of type '<class 'numpy.float64'>'\n",
              "\twith 1332570 stored elements in Compressed Sparse Row format>"
            ]
          },
          "execution_count": 100,
          "metadata": {},
          "output_type": "execute_result"
        }
      ],
      "source": [
        "x_train_vectorizer"
      ]
    },
    {
      "cell_type": "code",
      "execution_count": null,
      "id": "ceccd969-571c-43f9-980a-51eb0258631a",
      "metadata": {
        "id": "ceccd969-571c-43f9-980a-51eb0258631a",
        "outputId": "d7328ed1-988c-4dd1-c015-9b270552fd85"
      },
      "outputs": [
        {
          "name": "stdout",
          "output_type": "stream",
          "text": [
            "(5068, 61066)\n",
            "(1267, 61066)\n"
          ]
        }
      ],
      "source": [
        "print(x_train_vectorizer.shape)\n",
        "print(x_test_vectorizer.shape)"
      ]
    },
    {
      "cell_type": "code",
      "execution_count": null,
      "id": "cbf605a4-412c-47e3-a02a-aa2299b8fcb5",
      "metadata": {
        "id": "cbf605a4-412c-47e3-a02a-aa2299b8fcb5",
        "outputId": "4db0e1c5-437f-49f3-cba1-98d7dbc76586"
      },
      "outputs": [
        {
          "data": {
            "text/html": [
              "<style>#sk-container-id-1 {color: black;background-color: white;}#sk-container-id-1 pre{padding: 0;}#sk-container-id-1 div.sk-toggleable {background-color: white;}#sk-container-id-1 label.sk-toggleable__label {cursor: pointer;display: block;width: 100%;margin-bottom: 0;padding: 0.3em;box-sizing: border-box;text-align: center;}#sk-container-id-1 label.sk-toggleable__label-arrow:before {content: \"▸\";float: left;margin-right: 0.25em;color: #696969;}#sk-container-id-1 label.sk-toggleable__label-arrow:hover:before {color: black;}#sk-container-id-1 div.sk-estimator:hover label.sk-toggleable__label-arrow:before {color: black;}#sk-container-id-1 div.sk-toggleable__content {max-height: 0;max-width: 0;overflow: hidden;text-align: left;background-color: #f0f8ff;}#sk-container-id-1 div.sk-toggleable__content pre {margin: 0.2em;color: black;border-radius: 0.25em;background-color: #f0f8ff;}#sk-container-id-1 input.sk-toggleable__control:checked~div.sk-toggleable__content {max-height: 200px;max-width: 100%;overflow: auto;}#sk-container-id-1 input.sk-toggleable__control:checked~label.sk-toggleable__label-arrow:before {content: \"▾\";}#sk-container-id-1 div.sk-estimator input.sk-toggleable__control:checked~label.sk-toggleable__label {background-color: #d4ebff;}#sk-container-id-1 div.sk-label input.sk-toggleable__control:checked~label.sk-toggleable__label {background-color: #d4ebff;}#sk-container-id-1 input.sk-hidden--visually {border: 0;clip: rect(1px 1px 1px 1px);clip: rect(1px, 1px, 1px, 1px);height: 1px;margin: -1px;overflow: hidden;padding: 0;position: absolute;width: 1px;}#sk-container-id-1 div.sk-estimator {font-family: monospace;background-color: #f0f8ff;border: 1px dotted black;border-radius: 0.25em;box-sizing: border-box;margin-bottom: 0.5em;}#sk-container-id-1 div.sk-estimator:hover {background-color: #d4ebff;}#sk-container-id-1 div.sk-parallel-item::after {content: \"\";width: 100%;border-bottom: 1px solid gray;flex-grow: 1;}#sk-container-id-1 div.sk-label:hover label.sk-toggleable__label {background-color: #d4ebff;}#sk-container-id-1 div.sk-serial::before {content: \"\";position: absolute;border-left: 1px solid gray;box-sizing: border-box;top: 0;bottom: 0;left: 50%;z-index: 0;}#sk-container-id-1 div.sk-serial {display: flex;flex-direction: column;align-items: center;background-color: white;padding-right: 0.2em;padding-left: 0.2em;position: relative;}#sk-container-id-1 div.sk-item {position: relative;z-index: 1;}#sk-container-id-1 div.sk-parallel {display: flex;align-items: stretch;justify-content: center;background-color: white;position: relative;}#sk-container-id-1 div.sk-item::before, #sk-container-id-1 div.sk-parallel-item::before {content: \"\";position: absolute;border-left: 1px solid gray;box-sizing: border-box;top: 0;bottom: 0;left: 50%;z-index: -1;}#sk-container-id-1 div.sk-parallel-item {display: flex;flex-direction: column;z-index: 1;position: relative;background-color: white;}#sk-container-id-1 div.sk-parallel-item:first-child::after {align-self: flex-end;width: 50%;}#sk-container-id-1 div.sk-parallel-item:last-child::after {align-self: flex-start;width: 50%;}#sk-container-id-1 div.sk-parallel-item:only-child::after {width: 0;}#sk-container-id-1 div.sk-dashed-wrapped {border: 1px dashed gray;margin: 0 0.4em 0.5em 0.4em;box-sizing: border-box;padding-bottom: 0.4em;background-color: white;}#sk-container-id-1 div.sk-label label {font-family: monospace;font-weight: bold;display: inline-block;line-height: 1.2em;}#sk-container-id-1 div.sk-label-container {text-align: center;}#sk-container-id-1 div.sk-container {/* jupyter's `normalize.less` sets `[hidden] { display: none; }` but bootstrap.min.css set `[hidden] { display: none !important; }` so we also need the `!important` here to be able to override the default hidden behavior on the sphinx rendered scikit-learn.org. See: https://github.com/scikit-learn/scikit-learn/issues/21755 */display: inline-block !important;position: relative;}#sk-container-id-1 div.sk-text-repr-fallback {display: none;}</style><div id=\"sk-container-id-1\" class=\"sk-top-container\"><div class=\"sk-text-repr-fallback\"><pre>LinearSVC()</pre><b>In a Jupyter environment, please rerun this cell to show the HTML representation or trust the notebook. <br />On GitHub, the HTML representation is unable to render, please try loading this page with nbviewer.org.</b></div><div class=\"sk-container\" hidden><div class=\"sk-item\"><div class=\"sk-estimator sk-toggleable\"><input class=\"sk-toggleable__control sk-hidden--visually\" id=\"sk-estimator-id-1\" type=\"checkbox\" checked><label for=\"sk-estimator-id-1\" class=\"sk-toggleable__label sk-toggleable__label-arrow\">LinearSVC</label><div class=\"sk-toggleable__content\"><pre>LinearSVC()</pre></div></div></div></div></div>"
            ],
            "text/plain": [
              "LinearSVC()"
            ]
          },
          "execution_count": 101,
          "metadata": {},
          "output_type": "execute_result"
        }
      ],
      "source": [
        "clf = LinearSVC()\n",
        "clf.fit(x_train_vectorizer , y_train)\n"
      ]
    },
    {
      "cell_type": "code",
      "execution_count": null,
      "id": "b94e91d1-5322-49cb-b328-bd33b2e4fc6e",
      "metadata": {
        "id": "b94e91d1-5322-49cb-b328-bd33b2e4fc6e",
        "outputId": "9ae4ad42-de80-4bb4-ccad-4c6549ec036e"
      },
      "outputs": [
        {
          "data": {
            "text/plain": [
              "0.9431728492501973"
            ]
          },
          "execution_count": 102,
          "metadata": {},
          "output_type": "execute_result"
        }
      ],
      "source": [
        "clf.score(x_test_vectorizer,y_test)"
      ]
    },
    {
      "cell_type": "code",
      "execution_count": null,
      "id": "fd4a4049-8dab-43b9-a8cf-7bcb197f0d24",
      "metadata": {
        "id": "fd4a4049-8dab-43b9-a8cf-7bcb197f0d24",
        "outputId": "0fc77f5f-2c14-4d73-dd83-8bc1471afe14"
      },
      "outputs": [
        {
          "data": {
            "text/plain": [
              "1195.0"
            ]
          },
          "execution_count": 104,
          "metadata": {},
          "output_type": "execute_result"
        }
      ],
      "source": [
        "len(y_test) * 0.9431728492501973"
      ]
    },
    {
      "cell_type": "code",
      "execution_count": null,
      "id": "a81e84d2-bb54-4af7-932a-cf3d919ecbad",
      "metadata": {
        "id": "a81e84d2-bb54-4af7-932a-cf3d919ecbad",
        "outputId": "2554b8fb-c86f-4dc4-bb42-7ff528989184"
      },
      "outputs": [
        {
          "data": {
            "text/plain": [
              "1267"
            ]
          },
          "execution_count": 105,
          "metadata": {},
          "output_type": "execute_result"
        }
      ],
      "source": [
        "len(y_test)"
      ]
    },
    {
      "cell_type": "code",
      "execution_count": null,
      "id": "84f813e5-be87-45a2-9a7c-0be2685fbb4a",
      "metadata": {
        "id": "84f813e5-be87-45a2-9a7c-0be2685fbb4a",
        "outputId": "ea82d3f0-3d7f-436b-dbe2-c3c45a906b5b"
      },
      "outputs": [
        {
          "data": {
            "text/plain": [
              "'Washington (CNN) Donald Trump is poised to breeze through another round of primary contests this week -- while the Republican Party splinters around him.\\n\\nTrump\\'s ascent to the top of the GOP, which was capped last week with Ted Cruz\\' s devastating loss in the Indiana primary, happened so fast that even the billionaire himself was surprised. And the whipsawed party establishment now faces immediate choices -- none of which particularly appeal to them.\\n\\n\\'Just not ready\\' for Trump\\n\\nWill they unite behind their party\\'s standard-bearer? Will they sit out the 2016 campaign? Or will they fight on, in a quixotic quest to undermine Trump?\\n\\nTrump\\'s opponents are still sorting through the wreckage of the GOP primary season for a path forward. But it has become painfully clear over the past five days that party unification will be tough to come by, if it happens at all.\\n\\nTrump himself enters his first full week as the presumptive nominee by signaling that he has limited patience for or interest in the establishment\\'s rebellion. Though the election is six months away, he announced Monday that New Jersey Gov. Chris Christie will lead his transition team.\\n\\nBut when CNN\\'s Chris Cuomo gave Trump a chance to take on Ryan and the GOP establishment during a \"New Day\" interview Monday, Trump demurred. His response: \"We\\'ll see what happens.\"\\n\\nHe used the interview to offer fresh evidence of his willingness to thwart tradition. Trump, who is building his presidential bid around his business acumen and knowledge of the economy, told Cuomo the U.S. should take the unprecedented step of defaulting on the debt \"because you print the money.\"\\n\\nTrump is making quite clear he doesn\\'t intend to cast off the provocative style on the campaign trail that alarmed the Republican establishment and resonated so deeply with primary voters. After spending days on the receiving end of criticism from the likes of Ryan, Romney and Graham, Trump and his supporters hit back -- hard.\\n\\nSarah Palin, a key Trump surrogate and 2008 vice presidential nominee, took the unusual step of backing the little-known Republican businessman challenging Ryan for his Wisconsin seat.\\n\\n\"His political career is over but for a miracle because he has so disrespected the will of the people, and as the leader of the GOP, the convention, certainly he is to remain neutral,\" Palin said. \"And for him to already come out and say who he will not support is not a wise decision of his.\"\\n\\nFor his part, Trump didn\\'t seem too worried about the talk of the GOP disintegrating because of his nomination. Speaking on ABC\\'s \"This Week,\" Trump questioned the need for party unity, arguing that his campaign is unlike any before and won\\'t rely on the same political calculations.\\n\\n\"Does it have to be unified?\" he asked. \"I\\'m very different than everybody else, perhaps that\\'s ever run for office. I actually don\\'t think so.\"\\n\\nHe went on: \"I think it would be better if it were unified. I think ... there would be something good about it. But I don\\'t think it actually has to be unified in the traditional sense.\"\\n\\nThose comments underscore the growing debate over whether Trump\\'s unorthodox candidacy will doom the GOP in the fall or whether the anxious party leadership has grown so out of touch with the electorate that it\\'s missing the genuine anger fueling Trump\\'s rise.\\n\\nFacing the likelihood of running against the first female nominee of a major party, Trump sought to recast Clinton\\'s image by reviving the impeachment saga of the 1990s and arguing that she was dismissive of women who had extramarital affairs with her husband.\\n\\n\"And some of those women were destroyed, not by (Bill Clinton), but by the way Hillary Clinton treated them after it went down.\"\\n\\n\"But I think, for the most part,\" she went on, \"Americans are concerned about things like who will be able to appoint the next Supreme Court justices, which will affect an entire generation coming up. I think that\\'s what people are concerned about, much more so than Bill Clinton\\'s obvious indiscretions, and Donald Trump having been divorced a couple of times, but owning up to it.\"\\n\\nTrump also caused some confusion over the weekend by taking positions on the minimum wage and taxes that are not only out of step with GOP tradition but also his own stances during the primary.\\n\\nOn taxes, he said levies on the wealthy would go up under his administration. He argued that while he supports across-the-board tax cuts, he would likely bargain away cuts for top earners during negotiations with Congress.\\n\\n\"On my plan, they\\'re doing down,\" he said on \"This Week.\" \"But by the time it\\'s negotiated, they\\'ll go up.\"\\n\\nHe added: \"We\\'re going to submit the optimum ... That\\'s what I\\'d like to get and we\\'ll fight for it. But from a practical standpoint, it\\'s going to get renegotiated. And in my opinion, the taxes for the rich will go up somewhat.\"\\n\\nAnd after he told CNN\\'s Wolf Blitzer last week that he was \"looking at\" raising the minimum wage, he told ABC\\'s George Stephanopoulous that he hasn\\'t \"decided in terms of numbers.\"\\n\\n\"But I think people have to get more,\" he said, while acknowledging the shift.\\n\\n\"I\\'m allowed to change,\" he said. \"You need flexibility, George, whether it\\'s a tax plan where you\\'re going to -- where you know you\\'re going to negotiate. But we\\'re going to come up with something.\"\\n\\nSuch shifts, however, are deeply unnerving to many of Trump\\'s opponents.\\n\\nThey have argued that he effectively fooled many primary voters into supporting him and will change his tune once he has to appeal to a broader electorate ahead of the general election.\\n\\nThat fear is partly what\\'s fueling speculation over a potential third-party run from someone like Romney, who met privately with Kristol, the editor of the conservative Weekly Standard, last week to discuss how to get an independent candidate into the race.\\n\\n\"Profiteers tempt and endeavor to hook us with compulsive addictions,\" Romney said. \"Entertainment media distracts us from the things that bring enduring achievements and happiness.\"'"
            ]
          },
          "execution_count": 106,
          "metadata": {},
          "output_type": "execute_result"
        }
      ],
      "source": [
        "x_test.iloc[10]"
      ]
    },
    {
      "cell_type": "code",
      "execution_count": null,
      "id": "3bde873c-b0e7-4e53-936a-a39353869f4a",
      "metadata": {
        "id": "3bde873c-b0e7-4e53-936a-a39353869f4a"
      },
      "outputs": [],
      "source": [
        "with open('mytext.txt','w') as file:\n",
        "    file.write(x_test.iloc[10])"
      ]
    },
    {
      "cell_type": "code",
      "execution_count": null,
      "id": "e1b63292-29ed-456a-959b-2b46b8b9fdc9",
      "metadata": {
        "id": "e1b63292-29ed-456a-959b-2b46b8b9fdc9",
        "outputId": "44b272f5-59db-46fb-9275-efa7791569a0"
      },
      "outputs": [
        {
          "name": "stdout",
          "output_type": "stream",
          "text": [
            "Washington (CNN) Donald Trump is poised to breeze through another round of primary contests this week -- while the Republican Party splinters around him.\n",
            "\n",
            "Trump's ascent to the top of the GOP, which was capped last week with Ted Cruz' s devastating loss in the Indiana primary, happened so fast that even the billionaire himself was surprised. And the whipsawed party establishment now faces immediate choices -- none of which particularly appeal to them.\n",
            "\n",
            "'Just not ready' for Trump\n",
            "\n",
            "Will they unite behind their party's standard-bearer? Will they sit out the 2016 campaign? Or will they fight on, in a quixotic quest to undermine Trump?\n",
            "\n",
            "Trump's opponents are still sorting through the wreckage of the GOP primary season for a path forward. But it has become painfully clear over the past five days that party unification will be tough to come by, if it happens at all.\n",
            "\n",
            "Trump himself enters his first full week as the presumptive nominee by signaling that he has limited patience for or interest in the establishment's rebellion. Though the election is six months away, he announced Monday that New Jersey Gov. Chris Christie will lead his transition team.\n",
            "\n",
            "But when CNN's Chris Cuomo gave Trump a chance to take on Ryan and the GOP establishment during a \"New Day\" interview Monday, Trump demurred. His response: \"We'll see what happens.\"\n",
            "\n",
            "He used the interview to offer fresh evidence of his willingness to thwart tradition. Trump, who is building his presidential bid around his business acumen and knowledge of the economy, told Cuomo the U.S. should take the unprecedented step of defaulting on the debt \"because you print the money.\"\n",
            "\n",
            "Trump is making quite clear he doesn't intend to cast off the provocative style on the campaign trail that alarmed the Republican establishment and resonated so deeply with primary voters. After spending days on the receiving end of criticism from the likes of Ryan, Romney and Graham, Trump and his supporters hit back -- hard.\n",
            "\n",
            "Sarah Palin, a key Trump surrogate and 2008 vice presidential nominee, took the unusual step of backing the little-known Republican businessman challenging Ryan for his Wisconsin seat.\n",
            "\n",
            "\"His political career is over but for a miracle because he has so disrespected the will of the people, and as the leader of the GOP, the convention, certainly he is to remain neutral,\" Palin said. \"And for him to already come out and say who he will not support is not a wise decision of his.\"\n",
            "\n",
            "For his part, Trump didn't seem too worried about the talk of the GOP disintegrating because of his nomination. Speaking on ABC's \"This Week,\" Trump questioned the need for party unity, arguing that his campaign is unlike any before and won't rely on the same political calculations.\n",
            "\n",
            "\"Does it have to be unified?\" he asked. \"I'm very different than everybody else, perhaps that's ever run for office. I actually don't think so.\"\n",
            "\n",
            "He went on: \"I think it would be better if it were unified. I think ... there would be something good about it. But I don't think it actually has to be unified in the traditional sense.\"\n",
            "\n",
            "Those comments underscore the growing debate over whether Trump's unorthodox candidacy will doom the GOP in the fall or whether the anxious party leadership has grown so out of touch with the electorate that it's missing the genuine anger fueling Trump's rise.\n",
            "\n",
            "Facing the likelihood of running against the first female nominee of a major party, Trump sought to recast Clinton's image by reviving the impeachment saga of the 1990s and arguing that she was dismissive of women who had extramarital affairs with her husband.\n",
            "\n",
            "\"And some of those women were destroyed, not by (Bill Clinton), but by the way Hillary Clinton treated them after it went down.\"\n",
            "\n",
            "\"But I think, for the most part,\" she went on, \"Americans are concerned about things like who will be able to appoint the next Supreme Court justices, which will affect an entire generation coming up. I think that's what people are concerned about, much more so than Bill Clinton's obvious indiscretions, and Donald Trump having been divorced a couple of times, but owning up to it.\"\n",
            "\n",
            "Trump also caused some confusion over the weekend by taking positions on the minimum wage and taxes that are not only out of step with GOP tradition but also his own stances during the primary.\n",
            "\n",
            "On taxes, he said levies on the wealthy would go up under his administration. He argued that while he supports across-the-board tax cuts, he would likely bargain away cuts for top earners during negotiations with Congress.\n",
            "\n",
            "\"On my plan, they're doing down,\" he said on \"This Week.\" \"But by the time it's negotiated, they'll go up.\"\n",
            "\n",
            "He added: \"We're going to submit the optimum ... That's what I'd like to get and we'll fight for it. But from a practical standpoint, it's going to get renegotiated. And in my opinion, the taxes for the rich will go up somewhat.\"\n",
            "\n",
            "And after he told CNN's Wolf Blitzer last week that he was \"looking at\" raising the minimum wage, he told ABC's George Stephanopoulous that he hasn't \"decided in terms of numbers.\"\n",
            "\n",
            "\"But I think people have to get more,\" he said, while acknowledging the shift.\n",
            "\n",
            "\"I'm allowed to change,\" he said. \"You need flexibility, George, whether it's a tax plan where you're going to -- where you know you're going to negotiate. But we're going to come up with something.\"\n",
            "\n",
            "Such shifts, however, are deeply unnerving to many of Trump's opponents.\n",
            "\n",
            "They have argued that he effectively fooled many primary voters into supporting him and will change his tune once he has to appeal to a broader electorate ahead of the general election.\n",
            "\n",
            "That fear is partly what's fueling speculation over a potential third-party run from someone like Romney, who met privately with Kristol, the editor of the conservative Weekly Standard, last week to discuss how to get an independent candidate into the race.\n",
            "\n",
            "\"Profiteers tempt and endeavor to hook us with compulsive addictions,\" Romney said. \"Entertainment media distracts us from the things that bring enduring achievements and happiness.\"\n"
          ]
        }
      ],
      "source": [
        "with open('mytext.txt','r') as f:\n",
        "    txt = f.read()\n",
        "    print(txt)"
      ]
    },
    {
      "cell_type": "code",
      "execution_count": null,
      "id": "dc6eb8d8-e19a-456a-a772-6362993d1ff3",
      "metadata": {
        "id": "dc6eb8d8-e19a-456a-a772-6362993d1ff3"
      },
      "outputs": [],
      "source": [
        "vectorized = vectorizer.transform([txt])"
      ]
    },
    {
      "cell_type": "code",
      "execution_count": null,
      "id": "f9eca582-91a6-4ca7-b3e1-d2036373e8ff",
      "metadata": {
        "id": "f9eca582-91a6-4ca7-b3e1-d2036373e8ff",
        "outputId": "5ea2e564-5f89-4ddb-db1c-88a8675969e5"
      },
      "outputs": [
        {
          "data": {
            "text/plain": [
              "array([0], dtype=int64)"
            ]
          },
          "execution_count": 115,
          "metadata": {},
          "output_type": "execute_result"
        }
      ],
      "source": [
        "clf.predict(vectorized)"
      ]
    }
  ],
  "metadata": {
    "kernelspec": {
      "display_name": "Python 3 (ipykernel)",
      "language": "python",
      "name": "python3"
    },
    "language_info": {
      "codemirror_mode": {
        "name": "ipython",
        "version": 3
      },
      "file_extension": ".py",
      "mimetype": "text/x-python",
      "name": "python",
      "nbconvert_exporter": "python",
      "pygments_lexer": "ipython3",
      "version": "3.11.7"
    },
    "colab": {
      "provenance": [],
      "include_colab_link": true
    }
  },
  "nbformat": 4,
  "nbformat_minor": 5
}