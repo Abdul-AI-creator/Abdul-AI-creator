{
  "nbformat": 4,
  "nbformat_minor": 0,
  "metadata": {
    "colab": {
      "provenance": [],
      "authorship_tag": "ABX9TyN9N/dyoIyT0v5pDZZrgv1Y",
      "include_colab_link": true
    },
    "kernelspec": {
      "name": "python3",
      "display_name": "Python 3"
    },
    "language_info": {
      "name": "python"
    }
  },
  "cells": [
    {
      "cell_type": "markdown",
      "metadata": {
        "id": "view-in-github",
        "colab_type": "text"
      },
      "source": [
        "<a href=\"https://colab.research.google.com/github/Abdul-AI-creator/Abdul-AI-creator/blob/main/Pytorch_(Logistic_Regression).ipynb\" target=\"_parent\"><img src=\"https://colab.research.google.com/assets/colab-badge.svg\" alt=\"Open In Colab\"/></a>"
      ]
    },
    {
      "cell_type": "markdown",
      "source": [
        "**Libraries**"
      ],
      "metadata": {
        "id": "7BbcDGpQDOx4"
      }
    },
    {
      "cell_type": "code",
      "execution_count": 1,
      "metadata": {
        "id": "gTh8I0Au8y9Y"
      },
      "outputs": [],
      "source": [
        "import torch\n",
        "import torch.nn as nn\n",
        "import torchvision\n",
        "import torchvision.transforms as transforms"
      ]
    },
    {
      "cell_type": "markdown",
      "source": [
        "**Hyperparameters**"
      ],
      "metadata": {
        "id": "nxSU0ye3Dhgo"
      }
    },
    {
      "cell_type": "code",
      "source": [
        "input_size = 28 * 28   #784\n",
        "batch_size = 100\n",
        "n_classes =10\n",
        "n_epochs =5\n",
        "learning_rate = 0.001"
      ],
      "metadata": {
        "id": "xqCDjyJUDf-W"
      },
      "execution_count": 2,
      "outputs": []
    },
    {
      "cell_type": "markdown",
      "source": [
        "**MNIST Datasets Images and Labels**"
      ],
      "metadata": {
        "id": "80LLD3nwEBB3"
      }
    },
    {
      "cell_type": "code",
      "source": [
        "# Train datasets\n",
        "train_ds = torchvision.datasets.MNIST(root ='../../data' ,train=True ,transform=transforms.ToTensor(),download =True)\n",
        "train_ds"
      ],
      "metadata": {
        "colab": {
          "base_uri": "https://localhost:8080/"
        },
        "id": "PbutrExmDf5N",
        "outputId": "0868df4e-2563-4ef2-fa37-79f58bdbcc6e"
      },
      "execution_count": 3,
      "outputs": [
        {
          "output_type": "stream",
          "name": "stdout",
          "text": [
            "Downloading http://yann.lecun.com/exdb/mnist/train-images-idx3-ubyte.gz\n",
            "Failed to download (trying next):\n",
            "HTTP Error 403: Forbidden\n",
            "\n",
            "Downloading https://ossci-datasets.s3.amazonaws.com/mnist/train-images-idx3-ubyte.gz\n",
            "Downloading https://ossci-datasets.s3.amazonaws.com/mnist/train-images-idx3-ubyte.gz to ../../data/MNIST/raw/train-images-idx3-ubyte.gz\n"
          ]
        },
        {
          "output_type": "stream",
          "name": "stderr",
          "text": [
            "100%|██████████| 9.91M/9.91M [00:00<00:00, 16.4MB/s]\n"
          ]
        },
        {
          "output_type": "stream",
          "name": "stdout",
          "text": [
            "Extracting ../../data/MNIST/raw/train-images-idx3-ubyte.gz to ../../data/MNIST/raw\n",
            "\n",
            "Downloading http://yann.lecun.com/exdb/mnist/train-labels-idx1-ubyte.gz\n",
            "Failed to download (trying next):\n",
            "HTTP Error 403: Forbidden\n",
            "\n",
            "Downloading https://ossci-datasets.s3.amazonaws.com/mnist/train-labels-idx1-ubyte.gz\n",
            "Downloading https://ossci-datasets.s3.amazonaws.com/mnist/train-labels-idx1-ubyte.gz to ../../data/MNIST/raw/train-labels-idx1-ubyte.gz\n"
          ]
        },
        {
          "output_type": "stream",
          "name": "stderr",
          "text": [
            "100%|██████████| 28.9k/28.9k [00:00<00:00, 516kB/s]\n"
          ]
        },
        {
          "output_type": "stream",
          "name": "stdout",
          "text": [
            "Extracting ../../data/MNIST/raw/train-labels-idx1-ubyte.gz to ../../data/MNIST/raw\n",
            "\n",
            "Downloading http://yann.lecun.com/exdb/mnist/t10k-images-idx3-ubyte.gz\n",
            "Failed to download (trying next):\n",
            "HTTP Error 403: Forbidden\n",
            "\n",
            "Downloading https://ossci-datasets.s3.amazonaws.com/mnist/t10k-images-idx3-ubyte.gz\n",
            "Downloading https://ossci-datasets.s3.amazonaws.com/mnist/t10k-images-idx3-ubyte.gz to ../../data/MNIST/raw/t10k-images-idx3-ubyte.gz\n"
          ]
        },
        {
          "output_type": "stream",
          "name": "stderr",
          "text": [
            "100%|██████████| 1.65M/1.65M [00:00<00:00, 3.87MB/s]\n"
          ]
        },
        {
          "output_type": "stream",
          "name": "stdout",
          "text": [
            "Extracting ../../data/MNIST/raw/t10k-images-idx3-ubyte.gz to ../../data/MNIST/raw\n",
            "\n",
            "Downloading http://yann.lecun.com/exdb/mnist/t10k-labels-idx1-ubyte.gz\n",
            "Failed to download (trying next):\n",
            "HTTP Error 403: Forbidden\n",
            "\n",
            "Downloading https://ossci-datasets.s3.amazonaws.com/mnist/t10k-labels-idx1-ubyte.gz\n",
            "Downloading https://ossci-datasets.s3.amazonaws.com/mnist/t10k-labels-idx1-ubyte.gz to ../../data/MNIST/raw/t10k-labels-idx1-ubyte.gz\n"
          ]
        },
        {
          "output_type": "stream",
          "name": "stderr",
          "text": [
            "100%|██████████| 4.54k/4.54k [00:00<00:00, 5.87MB/s]"
          ]
        },
        {
          "output_type": "stream",
          "name": "stdout",
          "text": [
            "Extracting ../../data/MNIST/raw/t10k-labels-idx1-ubyte.gz to ../../data/MNIST/raw\n",
            "\n"
          ]
        },
        {
          "output_type": "stream",
          "name": "stderr",
          "text": [
            "\n"
          ]
        },
        {
          "output_type": "execute_result",
          "data": {
            "text/plain": [
              "Dataset MNIST\n",
              "    Number of datapoints: 60000\n",
              "    Root location: ../../data\n",
              "    Split: Train\n",
              "    StandardTransform\n",
              "Transform: ToTensor()"
            ]
          },
          "metadata": {},
          "execution_count": 3
        }
      ]
    },
    {
      "cell_type": "code",
      "source": [
        "# Test Dataset\n",
        "test_ds = torchvision.datasets.MNIST(root='../../data',train=False ,transform =transforms.ToTensor())\n",
        "test_ds"
      ],
      "metadata": {
        "colab": {
          "base_uri": "https://localhost:8080/"
        },
        "id": "6LjbWahZDf4W",
        "outputId": "9549355e-78c6-4876-a590-29c752ed3305"
      },
      "execution_count": 4,
      "outputs": [
        {
          "output_type": "execute_result",
          "data": {
            "text/plain": [
              "Dataset MNIST\n",
              "    Number of datapoints: 10000\n",
              "    Root location: ../../data\n",
              "    Split: Test\n",
              "    StandardTransform\n",
              "Transform: ToTensor()"
            ]
          },
          "metadata": {},
          "execution_count": 4
        }
      ]
    },
    {
      "cell_type": "markdown",
      "source": [
        "**Data Loader** `*Input Pipelines*`"
      ],
      "metadata": {
        "id": "x5ekwDHdE9Gi"
      }
    },
    {
      "cell_type": "code",
      "source": [
        "train_dl =torch.utils.data.DataLoader(dataset =train_ds ,batch_size=batch_size ,shuffle=True)\n",
        "train_dl"
      ],
      "metadata": {
        "colab": {
          "base_uri": "https://localhost:8080/"
        },
        "id": "W-xF-RLtDfzk",
        "outputId": "3e84abe1-de50-4231-eb0b-d787e5a011c7"
      },
      "execution_count": 13,
      "outputs": [
        {
          "output_type": "execute_result",
          "data": {
            "text/plain": [
              "<torch.utils.data.dataloader.DataLoader at 0x7a9804ec98a0>"
            ]
          },
          "metadata": {},
          "execution_count": 13
        }
      ]
    },
    {
      "cell_type": "code",
      "source": [
        "test_dl =torch.utils.data.DataLoader(dataset=test_ds ,batch_size=batch_size ,shuffle=False)\n",
        "test_dl"
      ],
      "metadata": {
        "colab": {
          "base_uri": "https://localhost:8080/"
        },
        "id": "rZ-eO4yDDfyv",
        "outputId": "34426a78-07db-4119-c361-4656b1694b40"
      },
      "execution_count": 14,
      "outputs": [
        {
          "output_type": "execute_result",
          "data": {
            "text/plain": [
              "<torch.utils.data.dataloader.DataLoader at 0x7a9804eca7d0>"
            ]
          },
          "metadata": {},
          "execution_count": 14
        }
      ]
    },
    {
      "cell_type": "markdown",
      "source": [
        "**Logistic regression model**"
      ],
      "metadata": {
        "id": "UCnwNKERFxUW"
      }
    },
    {
      "cell_type": "code",
      "source": [
        "model =nn.Linear(input_size ,n_classes)"
      ],
      "metadata": {
        "id": "tBGmTT_HDft7"
      },
      "execution_count": 15,
      "outputs": []
    },
    {
      "cell_type": "code",
      "source": [
        "# Loss and optimizer\n",
        "# nn.CrossEntropyLoss() Computes Softmax internally\n",
        "\n",
        "criterion =nn.CrossEntropyLoss()\n",
        "optimizer =torch.optim.SGD(model.parameters() ,lr =learning_rate)"
      ],
      "metadata": {
        "id": "Y9kDEJ2_Dfs7"
      },
      "execution_count": 16,
      "outputs": []
    },
    {
      "cell_type": "markdown",
      "source": [
        "**Let's Train Model**"
      ],
      "metadata": {
        "id": "Z9z38h1ZG7F9"
      }
    },
    {
      "cell_type": "code",
      "source": [
        "total_step =len(train_dl)\n",
        "for epoch in range(n_epochs):\n",
        "  for i ,(images , labels) in enumerate(train_dl):\n",
        "    # Reshape image to batch_size input size\n",
        "    images =images.reshape(-1 ,input_size)\n",
        "\n",
        "    output = model(images)\n",
        "    loss = criterion(output ,labels)\n",
        "\n",
        "    #backward and optimize\n",
        "    optimizer.zero_grad()\n",
        "    loss.backward()\n",
        "    optimizer.step()\n",
        "\n",
        "    if (i+1) % 100 ==0:\n",
        "      print(\"Epoch [{}/{}] , Step [{}/{}], Loss: {:.4f}\".format(epoch+1 ,n_epochs ,i+1 ,total_step ,loss.item()))\n",
        ""
      ],
      "metadata": {
        "colab": {
          "base_uri": "https://localhost:8080/"
        },
        "id": "iRlxL3DZG5v6",
        "outputId": "1c2e4e70-f68a-41a8-f842-af8b2dd43b62"
      },
      "execution_count": 18,
      "outputs": [
        {
          "output_type": "stream",
          "name": "stdout",
          "text": [
            "Epoch [1/5] , Step [100/600], Loss: 2.1872\n",
            "Epoch [1/5] , Step [200/600], Loss: 2.1066\n",
            "Epoch [1/5] , Step [300/600], Loss: 2.0408\n",
            "Epoch [1/5] , Step [400/600], Loss: 1.9224\n",
            "Epoch [1/5] , Step [500/600], Loss: 1.8643\n",
            "Epoch [1/5] , Step [600/600], Loss: 1.7849\n",
            "Epoch [2/5] , Step [100/600], Loss: 1.7921\n",
            "Epoch [2/5] , Step [200/600], Loss: 1.7228\n",
            "Epoch [2/5] , Step [300/600], Loss: 1.6749\n",
            "Epoch [2/5] , Step [400/600], Loss: 1.5168\n",
            "Epoch [2/5] , Step [500/600], Loss: 1.4721\n",
            "Epoch [2/5] , Step [600/600], Loss: 1.4692\n",
            "Epoch [3/5] , Step [100/600], Loss: 1.4915\n",
            "Epoch [3/5] , Step [200/600], Loss: 1.3901\n",
            "Epoch [3/5] , Step [300/600], Loss: 1.3119\n",
            "Epoch [3/5] , Step [400/600], Loss: 1.2427\n",
            "Epoch [3/5] , Step [500/600], Loss: 1.2355\n",
            "Epoch [3/5] , Step [600/600], Loss: 1.2981\n",
            "Epoch [4/5] , Step [100/600], Loss: 1.1407\n",
            "Epoch [4/5] , Step [200/600], Loss: 1.2511\n",
            "Epoch [4/5] , Step [300/600], Loss: 1.1392\n",
            "Epoch [4/5] , Step [400/600], Loss: 1.1020\n",
            "Epoch [4/5] , Step [500/600], Loss: 1.1245\n",
            "Epoch [4/5] , Step [600/600], Loss: 1.0735\n",
            "Epoch [5/5] , Step [100/600], Loss: 1.1814\n",
            "Epoch [5/5] , Step [200/600], Loss: 1.0859\n",
            "Epoch [5/5] , Step [300/600], Loss: 0.9999\n",
            "Epoch [5/5] , Step [400/600], Loss: 1.1578\n",
            "Epoch [5/5] , Step [500/600], Loss: 1.0248\n",
            "Epoch [5/5] , Step [600/600], Loss: 0.9520\n"
          ]
        }
      ]
    },
    {
      "cell_type": "markdown",
      "source": [
        "**Now Test Model**"
      ],
      "metadata": {
        "id": "H6Hi-8KNK9gD"
      }
    },
    {
      "cell_type": "code",
      "source": [
        "with torch.no_grad():\n",
        "  correct =0\n",
        "  total =0\n",
        "  for images , labels in test_dl:\n",
        "    images = images.reshape(-1 ,input_size)\n",
        "    outputs = model(images)\n",
        "    _ , predicted = torch.max(outputs.data ,1)\n",
        "    total += labels.size(0)\n",
        "    correct += (predicted == labels).sum()\n",
        "\n",
        "  print(\"Accuracy of model on 10,000(ten thousand) images:{} %\".format(100 * correct/total))"
      ],
      "metadata": {
        "colab": {
          "base_uri": "https://localhost:8080/"
        },
        "id": "Jb7h1HpwG5s4",
        "outputId": "f02fe71b-8cda-4825-c7ea-d1fb4ccacb59"
      },
      "execution_count": 19,
      "outputs": [
        {
          "output_type": "stream",
          "name": "stdout",
          "text": [
            "Accuracy of model on 10,000(ten thousand) images:82.87999725341797 %\n"
          ]
        }
      ]
    },
    {
      "cell_type": "code",
      "source": [
        "torch.save(model.state_dict() ,'Logistic_model.csv')"
      ],
      "metadata": {
        "id": "kT0zQesjG5p3"
      },
      "execution_count": 20,
      "outputs": []
    },
    {
      "cell_type": "code",
      "source": [],
      "metadata": {
        "id": "QdbqJWTDG5m2"
      },
      "execution_count": null,
      "outputs": []
    },
    {
      "cell_type": "code",
      "source": [],
      "metadata": {
        "id": "CpoFozGRG5jY"
      },
      "execution_count": null,
      "outputs": []
    },
    {
      "cell_type": "code",
      "source": [],
      "metadata": {
        "id": "43KdiEPaG5dz"
      },
      "execution_count": null,
      "outputs": []
    },
    {
      "cell_type": "code",
      "source": [],
      "metadata": {
        "id": "vzUETg73G5ae"
      },
      "execution_count": null,
      "outputs": []
    },
    {
      "cell_type": "code",
      "source": [],
      "metadata": {
        "id": "EmGc5p0gG5Xo"
      },
      "execution_count": null,
      "outputs": []
    },
    {
      "cell_type": "code",
      "source": [],
      "metadata": {
        "id": "ZASJL-w0G5U2"
      },
      "execution_count": null,
      "outputs": []
    }
  ]
}