{
  "nbformat": 4,
  "nbformat_minor": 0,
  "metadata": {
    "colab": {
      "provenance": [],
      "authorship_tag": "ABX9TyOaVk2IdOfoVg7nHxHm18dB",
      "include_colab_link": true
    },
    "kernelspec": {
      "name": "python3",
      "display_name": "Python 3"
    },
    "language_info": {
      "name": "python"
    }
  },
  "cells": [
    {
      "cell_type": "markdown",
      "metadata": {
        "id": "view-in-github",
        "colab_type": "text"
      },
      "source": [
        "<a href=\"https://colab.research.google.com/github/Abdul-AI-creator/Abdul-AI-creator/blob/main/Pytorch_Basics.ipynb\" target=\"_parent\"><img src=\"https://colab.research.google.com/assets/colab-badge.svg\" alt=\"Open In Colab\"/></a>"
      ]
    },
    {
      "cell_type": "markdown",
      "source": [
        "# Feed Forward Neural Network"
      ],
      "metadata": {
        "id": "_E0B1FmQAYTe"
      }
    },
    {
      "cell_type": "code",
      "execution_count": 1,
      "metadata": {
        "id": "H4YgPp04HuCL"
      },
      "outputs": [],
      "source": [
        "import torch\n",
        "import torch.nn as nn\n",
        "import torchvision\n",
        "import torchvision.transforms as transforms"
      ]
    },
    {
      "cell_type": "markdown",
      "source": [
        "**Device Configuration**"
      ],
      "metadata": {
        "id": "68poEPhrILyP"
      }
    },
    {
      "cell_type": "code",
      "source": [
        "device = torch.device('cuda' if torch.cuda.is_available() else 'cpu')\n",
        "device"
      ],
      "metadata": {
        "id": "n8l7hBqyIIKQ",
        "colab": {
          "base_uri": "https://localhost:8080/"
        },
        "outputId": "04bcb32d-09e2-4081-8f9b-b0490e073137"
      },
      "execution_count": 3,
      "outputs": [
        {
          "output_type": "execute_result",
          "data": {
            "text/plain": [
              "device(type='cpu')"
            ]
          },
          "metadata": {},
          "execution_count": 3
        }
      ]
    },
    {
      "cell_type": "markdown",
      "source": [
        "**Hyper Parameters**"
      ],
      "metadata": {
        "id": "OLomVQnhAjEo"
      }
    },
    {
      "cell_type": "code",
      "source": [
        "input_size =784\n",
        "hidden_size = 500\n",
        "n_classes = 100\n",
        "batch_size=100\n",
        "n_epochs = 5\n",
        "learning_rate = 0.001"
      ],
      "metadata": {
        "id": "9iM_wj3WIIG3"
      },
      "execution_count": 10,
      "outputs": []
    },
    {
      "cell_type": "markdown",
      "source": [
        "**MNIST dataset**"
      ],
      "metadata": {
        "id": "jclt1UdqCBR9"
      }
    },
    {
      "cell_type": "code",
      "source": [
        "train_dataset = torchvision.datasets.MNIST(root='../../data',download=True ,\n",
        "                                           train=True ,\n",
        "                                           transform=transforms.ToTensor())\n",
        "train_dataset"
      ],
      "metadata": {
        "id": "ytwVgtLaIIEB",
        "colab": {
          "base_uri": "https://localhost:8080/"
        },
        "outputId": "d4463637-70a9-48dd-825a-10e5deaf44ba"
      },
      "execution_count": 5,
      "outputs": [
        {
          "output_type": "stream",
          "name": "stdout",
          "text": [
            "Downloading http://yann.lecun.com/exdb/mnist/train-images-idx3-ubyte.gz\n",
            "Failed to download (trying next):\n",
            "HTTP Error 403: Forbidden\n",
            "\n",
            "Downloading https://ossci-datasets.s3.amazonaws.com/mnist/train-images-idx3-ubyte.gz\n",
            "Downloading https://ossci-datasets.s3.amazonaws.com/mnist/train-images-idx3-ubyte.gz to ../../data/MNIST/raw/train-images-idx3-ubyte.gz\n"
          ]
        },
        {
          "output_type": "stream",
          "name": "stderr",
          "text": [
            "100%|██████████| 9.91M/9.91M [00:00<00:00, 39.5MB/s]\n"
          ]
        },
        {
          "output_type": "stream",
          "name": "stdout",
          "text": [
            "Extracting ../../data/MNIST/raw/train-images-idx3-ubyte.gz to ../../data/MNIST/raw\n",
            "\n",
            "Downloading http://yann.lecun.com/exdb/mnist/train-labels-idx1-ubyte.gz\n",
            "Failed to download (trying next):\n",
            "HTTP Error 403: Forbidden\n",
            "\n",
            "Downloading https://ossci-datasets.s3.amazonaws.com/mnist/train-labels-idx1-ubyte.gz\n",
            "Downloading https://ossci-datasets.s3.amazonaws.com/mnist/train-labels-idx1-ubyte.gz to ../../data/MNIST/raw/train-labels-idx1-ubyte.gz\n"
          ]
        },
        {
          "output_type": "stream",
          "name": "stderr",
          "text": [
            "100%|██████████| 28.9k/28.9k [00:00<00:00, 1.34MB/s]\n"
          ]
        },
        {
          "output_type": "stream",
          "name": "stdout",
          "text": [
            "Extracting ../../data/MNIST/raw/train-labels-idx1-ubyte.gz to ../../data/MNIST/raw\n",
            "\n",
            "Downloading http://yann.lecun.com/exdb/mnist/t10k-images-idx3-ubyte.gz\n",
            "Failed to download (trying next):\n",
            "HTTP Error 403: Forbidden\n",
            "\n",
            "Downloading https://ossci-datasets.s3.amazonaws.com/mnist/t10k-images-idx3-ubyte.gz\n",
            "Downloading https://ossci-datasets.s3.amazonaws.com/mnist/t10k-images-idx3-ubyte.gz to ../../data/MNIST/raw/t10k-images-idx3-ubyte.gz\n"
          ]
        },
        {
          "output_type": "stream",
          "name": "stderr",
          "text": [
            "100%|██████████| 1.65M/1.65M [00:00<00:00, 9.38MB/s]\n"
          ]
        },
        {
          "output_type": "stream",
          "name": "stdout",
          "text": [
            "Extracting ../../data/MNIST/raw/t10k-images-idx3-ubyte.gz to ../../data/MNIST/raw\n",
            "\n",
            "Downloading http://yann.lecun.com/exdb/mnist/t10k-labels-idx1-ubyte.gz\n",
            "Failed to download (trying next):\n",
            "HTTP Error 403: Forbidden\n",
            "\n",
            "Downloading https://ossci-datasets.s3.amazonaws.com/mnist/t10k-labels-idx1-ubyte.gz\n",
            "Downloading https://ossci-datasets.s3.amazonaws.com/mnist/t10k-labels-idx1-ubyte.gz to ../../data/MNIST/raw/t10k-labels-idx1-ubyte.gz\n"
          ]
        },
        {
          "output_type": "stream",
          "name": "stderr",
          "text": [
            "100%|██████████| 4.54k/4.54k [00:00<00:00, 1.93MB/s]"
          ]
        },
        {
          "output_type": "stream",
          "name": "stdout",
          "text": [
            "Extracting ../../data/MNIST/raw/t10k-labels-idx1-ubyte.gz to ../../data/MNIST/raw\n",
            "\n"
          ]
        },
        {
          "output_type": "stream",
          "name": "stderr",
          "text": [
            "\n"
          ]
        },
        {
          "output_type": "execute_result",
          "data": {
            "text/plain": [
              "Dataset MNIST\n",
              "    Number of datapoints: 60000\n",
              "    Root location: ../../data\n",
              "    Split: Train\n",
              "    StandardTransform\n",
              "Transform: ToTensor()"
            ]
          },
          "metadata": {},
          "execution_count": 5
        }
      ]
    },
    {
      "cell_type": "code",
      "source": [
        "test_dataset = torchvision.datasets.MNIST(root = '../../data',\n",
        "                                          train=False,transform=transforms.ToTensor())\n",
        "test_dataset"
      ],
      "metadata": {
        "id": "phZBYk2eIIAX",
        "colab": {
          "base_uri": "https://localhost:8080/"
        },
        "outputId": "c31db323-83ec-46d7-fca5-d35fbe5dd047"
      },
      "execution_count": 8,
      "outputs": [
        {
          "output_type": "execute_result",
          "data": {
            "text/plain": [
              "Dataset MNIST\n",
              "    Number of datapoints: 10000\n",
              "    Root location: ../../data\n",
              "    Split: Test\n",
              "    StandardTransform\n",
              "Transform: ToTensor()"
            ]
          },
          "metadata": {},
          "execution_count": 8
        }
      ]
    },
    {
      "cell_type": "markdown",
      "source": [
        "**Data Loaders**"
      ],
      "metadata": {
        "id": "tlE6kfKlD5cC"
      }
    },
    {
      "cell_type": "code",
      "source": [
        "train_loader = torch.utils.data.DataLoader(dataset=train_dataset ,batch_size=batch_size ,shuffle=True)\n",
        "test_loader = torch.utils.data.DataLoader(dataset = test_dataset ,batch_size=batch_size,shuffle=False)\n",
        "print(train_loader)\n",
        "test_loader"
      ],
      "metadata": {
        "id": "onRODaAZIH8u",
        "colab": {
          "base_uri": "https://localhost:8080/"
        },
        "outputId": "4e08bb4d-e7c0-492e-e6d9-267812ab3787"
      },
      "execution_count": 11,
      "outputs": [
        {
          "output_type": "stream",
          "name": "stdout",
          "text": [
            "<torch.utils.data.dataloader.DataLoader object at 0x7f8f47cb8c10>\n"
          ]
        },
        {
          "output_type": "execute_result",
          "data": {
            "text/plain": [
              "<torch.utils.data.dataloader.DataLoader at 0x7f8f47cbae60>"
            ]
          },
          "metadata": {},
          "execution_count": 11
        }
      ]
    },
    {
      "cell_type": "markdown",
      "source": [
        "**Fully Connected Neural Network with one Hidden Layer**"
      ],
      "metadata": {
        "id": "afIdGtufE2vi"
      }
    },
    {
      "cell_type": "code",
      "source": [
        "class NeuralNet(nn.Module):\n",
        "  def __init__(self , input_size ,hidden_size ,n_classes):\n",
        "    super(NeuralNet, self).__init__()                      # Super() class that inherit all the methods and properties from another class.\n",
        "    self.fc1 = nn.Linear(input_size,hidden_size)\n",
        "    self.relu = nn.ReLU()\n",
        "    self.fc2 = nn.Linear(hidden_size ,n_classes)\n",
        "\n",
        "  def forward(self, x):\n",
        "    out = self.fc1(x)\n",
        "    out = self.relu(out)\n",
        "    out=self.fc2(out)\n",
        "    return out"
      ],
      "metadata": {
        "id": "O5PoHWJ9IH5R"
      },
      "execution_count": 18,
      "outputs": []
    },
    {
      "cell_type": "code",
      "source": [
        "model = NeuralNet(input_size ,hidden_size ,n_classes).to(device)\n",
        "model"
      ],
      "metadata": {
        "id": "r1UIPkYBIH1-",
        "colab": {
          "base_uri": "https://localhost:8080/"
        },
        "outputId": "3bd9a7e8-3b68-4626-ec30-880c41d8aff4"
      },
      "execution_count": 20,
      "outputs": [
        {
          "output_type": "execute_result",
          "data": {
            "text/plain": [
              "NeuralNet(\n",
              "  (fc1): Linear(in_features=784, out_features=500, bias=True)\n",
              "  (relu): ReLU()\n",
              "  (fc2): Linear(in_features=500, out_features=100, bias=True)\n",
              ")"
            ]
          },
          "metadata": {},
          "execution_count": 20
        }
      ]
    },
    {
      "cell_type": "markdown",
      "source": [
        "**Loss and Optimizer**"
      ],
      "metadata": {
        "id": "j5EdY7e8Ii7Q"
      }
    },
    {
      "cell_type": "code",
      "source": [
        "criterion = nn.CrossEntropyLoss()\n",
        "optimizer = torch.optim.Adam(model.parameters(), lr =learning_rate)\n",
        "optimizer"
      ],
      "metadata": {
        "id": "VvaNmOuCIHym",
        "colab": {
          "base_uri": "https://localhost:8080/"
        },
        "outputId": "7c55b792-f4d1-4ce8-bf2e-020658c8c445"
      },
      "execution_count": 21,
      "outputs": [
        {
          "output_type": "execute_result",
          "data": {
            "text/plain": [
              "Adam (\n",
              "Parameter Group 0\n",
              "    amsgrad: False\n",
              "    betas: (0.9, 0.999)\n",
              "    capturable: False\n",
              "    differentiable: False\n",
              "    eps: 1e-08\n",
              "    foreach: None\n",
              "    fused: None\n",
              "    lr: 0.001\n",
              "    maximize: False\n",
              "    weight_decay: 0\n",
              ")"
            ]
          },
          "metadata": {},
          "execution_count": 21
        }
      ]
    },
    {
      "cell_type": "markdown",
      "source": [
        "# Train the model"
      ],
      "metadata": {
        "id": "6X_52hxWJLU8"
      }
    },
    {
      "cell_type": "code",
      "source": [
        "total_step =len(train_loader)\n",
        "for epoch in range(n_epochs):\n",
        "  for i ,(images ,labels) in enumerate(train_loader):\n",
        "    # move Tensor to configure Device\n",
        "    images =images.reshape(-1 ,28*28).to(device)\n",
        "    labels = labels.to(device)\n",
        "\n",
        "    # Forward pass\n",
        "    outputs = model(images)\n",
        "    loss = criterion(outputs ,labels)\n",
        "\n",
        "    # Backward an optimize\n",
        "    optimizer.zero_grad()\n",
        "    loss.backward()\n",
        "    optimizer.step()\n",
        "\n",
        "    if (i+1) % 100 ==0:\n",
        "      print(\"Epoch [{}/{}] ,Step [{}/{}],Loss: {:.4f}\".format(epoch + 1,n_epochs ,i+1 ,total_step ,loss.item()))"
      ],
      "metadata": {
        "id": "JcmeI0KmIHvq",
        "colab": {
          "base_uri": "https://localhost:8080/"
        },
        "outputId": "f6278500-b568-4ba7-ab6a-f00a0f1e9307"
      },
      "execution_count": 24,
      "outputs": [
        {
          "output_type": "stream",
          "name": "stdout",
          "text": [
            "Epoch [1/5] ,Step [100/600],Loss: 0.5673\n",
            "Epoch [1/5] ,Step [200/600],Loss: 0.4247\n",
            "Epoch [1/5] ,Step [300/600],Loss: 0.1121\n",
            "Epoch [1/5] ,Step [400/600],Loss: 0.2022\n",
            "Epoch [1/5] ,Step [500/600],Loss: 0.2137\n",
            "Epoch [1/5] ,Step [600/600],Loss: 0.2521\n",
            "Epoch [2/5] ,Step [100/600],Loss: 0.0610\n",
            "Epoch [2/5] ,Step [200/600],Loss: 0.1942\n",
            "Epoch [2/5] ,Step [300/600],Loss: 0.1455\n",
            "Epoch [2/5] ,Step [400/600],Loss: 0.1352\n",
            "Epoch [2/5] ,Step [500/600],Loss: 0.0551\n",
            "Epoch [2/5] ,Step [600/600],Loss: 0.0756\n",
            "Epoch [3/5] ,Step [100/600],Loss: 0.1229\n",
            "Epoch [3/5] ,Step [200/600],Loss: 0.0654\n",
            "Epoch [3/5] ,Step [300/600],Loss: 0.1562\n",
            "Epoch [3/5] ,Step [400/600],Loss: 0.0734\n",
            "Epoch [3/5] ,Step [500/600],Loss: 0.1175\n",
            "Epoch [3/5] ,Step [600/600],Loss: 0.0713\n",
            "Epoch [4/5] ,Step [100/600],Loss: 0.0301\n",
            "Epoch [4/5] ,Step [200/600],Loss: 0.1490\n",
            "Epoch [4/5] ,Step [300/600],Loss: 0.0254\n",
            "Epoch [4/5] ,Step [400/600],Loss: 0.0296\n",
            "Epoch [4/5] ,Step [500/600],Loss: 0.1206\n",
            "Epoch [4/5] ,Step [600/600],Loss: 0.0670\n",
            "Epoch [5/5] ,Step [100/600],Loss: 0.0226\n",
            "Epoch [5/5] ,Step [200/600],Loss: 0.0594\n",
            "Epoch [5/5] ,Step [300/600],Loss: 0.0753\n",
            "Epoch [5/5] ,Step [400/600],Loss: 0.0514\n",
            "Epoch [5/5] ,Step [500/600],Loss: 0.0185\n",
            "Epoch [5/5] ,Step [600/600],Loss: 0.0237\n"
          ]
        }
      ]
    },
    {
      "cell_type": "markdown",
      "source": [
        "**test the model We don't need to compute gradient for memory efficient.**"
      ],
      "metadata": {
        "id": "sXfAgbQIcl86"
      }
    },
    {
      "cell_type": "code",
      "source": [
        "with torch.no_grad():\n",
        "  correct=0\n",
        "  total =0\n",
        "  for images ,labels in test_loader:\n",
        "    images = images.reshape(-1 ,28*28).to(device)\n",
        "    labels = labels.to(device)\n",
        "    outputs =model(images)\n",
        "    _ , predicted = torch.max(outputs.data , 1)\n",
        "    total += labels.size(0)\n",
        "    correct += (predicted == labels).sum().item()\n",
        "  print('Accuracy of the network on the 10000 test images: {} %'.format(100 * correct / total))\n",
        "\n",
        "torch.save(model.state_dict() ,'model.csv')"
      ],
      "metadata": {
        "id": "wDKNr9aeIHr3",
        "colab": {
          "base_uri": "https://localhost:8080/"
        },
        "outputId": "f3f96fe0-fc14-4d36-8d3b-25dbc58644aa"
      },
      "execution_count": 27,
      "outputs": [
        {
          "output_type": "stream",
          "name": "stdout",
          "text": [
            "Accuracy of the network on the 10000 test images: 97.85 %\n"
          ]
        }
      ]
    },
    {
      "cell_type": "code",
      "source": [],
      "metadata": {
        "id": "0NNw6R1AIHop"
      },
      "execution_count": null,
      "outputs": []
    },
    {
      "cell_type": "code",
      "source": [],
      "metadata": {
        "id": "6NlHSdTXIHlX"
      },
      "execution_count": null,
      "outputs": []
    },
    {
      "cell_type": "code",
      "source": [],
      "metadata": {
        "id": "T0iPcbM8IHiI"
      },
      "execution_count": null,
      "outputs": []
    },
    {
      "cell_type": "code",
      "source": [],
      "metadata": {
        "id": "0lQh-qwEIHe3"
      },
      "execution_count": null,
      "outputs": []
    },
    {
      "cell_type": "code",
      "source": [],
      "metadata": {
        "id": "0TqSD6uHIHbX"
      },
      "execution_count": null,
      "outputs": []
    },
    {
      "cell_type": "code",
      "source": [],
      "metadata": {
        "id": "fB3wTUQKIHX_"
      },
      "execution_count": null,
      "outputs": []
    }
  ]
}