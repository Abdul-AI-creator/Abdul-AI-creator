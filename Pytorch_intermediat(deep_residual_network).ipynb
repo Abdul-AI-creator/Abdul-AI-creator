{
  "cells": [
    {
      "cell_type": "markdown",
      "metadata": {
        "id": "view-in-github",
        "colab_type": "text"
      },
      "source": [
        "<a href=\"https://colab.research.google.com/github/Abdul-AI-creator/Abdul-AI-creator/blob/main/Pytorch_intermediat(deep_residual_network).ipynb\" target=\"_parent\"><img src=\"https://colab.research.google.com/assets/colab-badge.svg\" alt=\"Open In Colab\"/></a>"
      ]
    },
    {
      "cell_type": "code",
      "execution_count": 2,
      "metadata": {
        "id": "LfijXKs_ngrt"
      },
      "outputs": [],
      "source": [
        "import torch\n",
        "import torch.nn as nn\n",
        "import torchvision\n",
        "import torchvision.transforms as transforms"
      ]
    },
    {
      "cell_type": "markdown",
      "metadata": {
        "id": "loqWYGzI9YMc"
      },
      "source": [
        "**device configuration**"
      ]
    },
    {
      "cell_type": "code",
      "execution_count": 3,
      "metadata": {
        "colab": {
          "base_uri": "https://localhost:8080/"
        },
        "id": "MUz7sDPBngmF",
        "outputId": "0dc40954-2d02-47a8-8383-b90fbbc9e0c9"
      },
      "outputs": [
        {
          "output_type": "execute_result",
          "data": {
            "text/plain": [
              "device(type='cpu')"
            ]
          },
          "metadata": {},
          "execution_count": 3
        }
      ],
      "source": [
        "device = torch.device('cuda' if torch.cuda.is_available() else 'cpu')\n",
        "device"
      ]
    },
    {
      "cell_type": "markdown",
      "metadata": {
        "id": "s0HdyLz19we7"
      },
      "source": [
        "**HyperParameters**"
      ]
    },
    {
      "cell_type": "code",
      "execution_count": 4,
      "metadata": {
        "id": "JPSBOYNcngic"
      },
      "outputs": [],
      "source": [
        "n_epochs =80\n",
        "batch_size =100\n",
        "learning_rate = 0.003"
      ]
    },
    {
      "cell_type": "markdown",
      "metadata": {
        "id": "zKM4Pm18-QnP"
      },
      "source": [
        "**Image Preprocessing Modules**"
      ]
    },
    {
      "cell_type": "code",
      "execution_count": 5,
      "metadata": {
        "colab": {
          "base_uri": "https://localhost:8080/"
        },
        "id": "isEb1XXtngdE",
        "outputId": "7ec28ec1-470f-4ef7-b62a-98af1ae37c82"
      },
      "outputs": [
        {
          "output_type": "execute_result",
          "data": {
            "text/plain": [
              "Compose(\n",
              "    Pad(padding=4, fill=0, padding_mode=constant)\n",
              "    RandomHorizontalFlip(p=0.5)\n",
              "    RandomCrop(size=(32, 32), padding=None)\n",
              "    ToTensor()\n",
              ")"
            ]
          },
          "metadata": {},
          "execution_count": 5
        }
      ],
      "source": [
        "transform =transforms.Compose(\n",
        "    [transforms.Pad(4),\n",
        "     transforms.RandomHorizontalFlip(),\n",
        "     transforms.RandomCrop(32),\n",
        "     transforms.ToTensor()]\n",
        ")\n",
        "transform"
      ]
    },
    {
      "cell_type": "markdown",
      "metadata": {
        "id": "QC3CuDU2ANRu"
      },
      "source": [
        "**CIFAR10 DATASET**"
      ]
    },
    {
      "cell_type": "code",
      "execution_count": 6,
      "metadata": {
        "colab": {
          "base_uri": "https://localhost:8080/"
        },
        "id": "a_MLFa5xngZd",
        "outputId": "9f55ca32-a2a3-48a8-d89c-b4b46f9a8603"
      },
      "outputs": [
        {
          "output_type": "stream",
          "name": "stdout",
          "text": [
            "Downloading https://www.cs.toronto.edu/~kriz/cifar-10-python.tar.gz to data/cifar-10-python.tar.gz\n"
          ]
        },
        {
          "output_type": "stream",
          "name": "stderr",
          "text": [
            "100%|██████████| 170M/170M [00:13<00:00, 12.4MB/s]\n"
          ]
        },
        {
          "output_type": "stream",
          "name": "stdout",
          "text": [
            "Extracting data/cifar-10-python.tar.gz to data\n"
          ]
        },
        {
          "output_type": "execute_result",
          "data": {
            "text/plain": [
              "Dataset CIFAR10\n",
              "    Number of datapoints: 50000\n",
              "    Root location: data\n",
              "    Split: Train\n",
              "    StandardTransform\n",
              "Transform: Compose(\n",
              "               Pad(padding=4, fill=0, padding_mode=constant)\n",
              "               RandomHorizontalFlip(p=0.5)\n",
              "               RandomCrop(size=(32, 32), padding=None)\n",
              "               ToTensor()\n",
              "           )"
            ]
          },
          "metadata": {},
          "execution_count": 6
        }
      ],
      "source": [
        "train_ds = torchvision.datasets.CIFAR10(root = 'data' ,transform=transform ,download=True,train=True)\n",
        "test_ds = torchvision.datasets.CIFAR10(root='data' ,train=False ,transform=transforms.ToTensor())\n",
        "train_ds"
      ]
    },
    {
      "cell_type": "markdown",
      "metadata": {
        "id": "wAWD7DhEBMOW"
      },
      "source": [
        "**Data Loader**"
      ]
    },
    {
      "cell_type": "code",
      "execution_count": 7,
      "metadata": {
        "id": "pjekS-nIngV1"
      },
      "outputs": [],
      "source": [
        "train_loader = torch.utils.data.DataLoader(dataset=train_ds ,batch_size=batch_size ,shuffle=True)\n",
        "test_loader = torch.utils.data.DataLoader(dataset=test_ds ,batch_size=batch_size ,shuffle=False)"
      ]
    },
    {
      "cell_type": "markdown",
      "metadata": {
        "id": "3jV9uZNPBqTu"
      },
      "source": [
        "**3x3 Convolution**"
      ]
    },
    {
      "cell_type": "code",
      "execution_count": 8,
      "metadata": {
        "id": "UGxPchLiBzX5"
      },
      "outputs": [],
      "source": [
        "def conv3x3(in_channels ,out_channels ,stride=1):  ##Stride = 1 (filter slides one pixel at a time).\n",
        "   return nn.Conv2d(in_channels ,out_channels ,kernel_size=3 ,stride=stride ,padding=1 ,bias=False) #Each side of the\n",
        "                                                                                                 #input (top, bottom, left, right) gets 1 row or column of zeros added."
      ]
    },
    {
      "cell_type": "markdown",
      "metadata": {
        "id": "-wFIYFd6DrXk"
      },
      "source": [
        "***Residual Block***"
      ]
    },
    {
      "cell_type": "code",
      "execution_count": 9,
      "metadata": {
        "id": "x3i5HQRWBzWy"
      },
      "outputs": [],
      "source": [
        "class ResidualBlock(nn.Module):\n",
        "  def __init__(self ,in_channels ,out_channels ,stride=1 ,downsample=None):\n",
        "    super(ResidualBlock ,self).__init__()\n",
        "    self.conv1=conv3x3(in_channels ,out_channels ,stride)\n",
        "    self.bn1 =nn.BatchNorm2d(out_channels)\n",
        "    self.relu = nn.ReLU(inplace=True)\n",
        "    self.conv2 =conv3x3(out_channels ,out_channels)\n",
        "    self.bn2 =nn.BatchNorm2d(out_channels)\n",
        "    self.downsample =downsample\n",
        "\n",
        "  def forward(self,x):\n",
        "    residual =x\n",
        "    out =self.conv1(x)\n",
        "    out = self.bn1(out)\n",
        "    out =self.relu(out)\n",
        "    out =self.conv2(out)\n",
        "    out=self.bn2(out)\n",
        "    if self.downsample:\n",
        "      residual = self.downsample(x)\n",
        "    out += residual\n",
        "    out =self.relu(out)\n",
        "    return out"
      ]
    },
    {
      "cell_type": "markdown",
      "metadata": {
        "id": "RD4JbZA_PaIy"
      },
      "source": [
        "**ResNet**"
      ]
    },
    {
      "cell_type": "code",
      "execution_count": 10,
      "metadata": {
        "colab": {
          "base_uri": "https://localhost:8080/"
        },
        "id": "6O23E1-tBzRW",
        "outputId": "047e9216-4486-4bd8-a334-9332889b2c0b"
      },
      "outputs": [
        {
          "output_type": "execute_result",
          "data": {
            "text/plain": [
              "ResNet(\n",
              "  (conv): Conv2d(3, 16, kernel_size=(3, 3), stride=(1, 1), padding=(1, 1), bias=False)\n",
              "  (bn): BatchNorm2d(16, eps=1e-05, momentum=0.1, affine=True, track_running_stats=True)\n",
              "  (relu): ReLU(inplace=True)\n",
              "  (layer1): Sequential(\n",
              "    (0): ResidualBlock(\n",
              "      (conv1): Conv2d(16, 16, kernel_size=(3, 3), stride=(1, 1), padding=(1, 1), bias=False)\n",
              "      (bn1): BatchNorm2d(16, eps=1e-05, momentum=0.1, affine=True, track_running_stats=True)\n",
              "      (relu): ReLU(inplace=True)\n",
              "      (conv2): Conv2d(16, 16, kernel_size=(3, 3), stride=(1, 1), padding=(1, 1), bias=False)\n",
              "      (bn2): BatchNorm2d(16, eps=1e-05, momentum=0.1, affine=True, track_running_stats=True)\n",
              "    )\n",
              "    (1): ResidualBlock(\n",
              "      (conv1): Conv2d(16, 16, kernel_size=(3, 3), stride=(1, 1), padding=(1, 1), bias=False)\n",
              "      (bn1): BatchNorm2d(16, eps=1e-05, momentum=0.1, affine=True, track_running_stats=True)\n",
              "      (relu): ReLU(inplace=True)\n",
              "      (conv2): Conv2d(16, 16, kernel_size=(3, 3), stride=(1, 1), padding=(1, 1), bias=False)\n",
              "      (bn2): BatchNorm2d(16, eps=1e-05, momentum=0.1, affine=True, track_running_stats=True)\n",
              "    )\n",
              "  )\n",
              "  (layer2): Sequential(\n",
              "    (0): ResidualBlock(\n",
              "      (conv1): Conv2d(16, 32, kernel_size=(3, 3), stride=(2, 2), padding=(1, 1), bias=False)\n",
              "      (bn1): BatchNorm2d(32, eps=1e-05, momentum=0.1, affine=True, track_running_stats=True)\n",
              "      (relu): ReLU(inplace=True)\n",
              "      (conv2): Conv2d(32, 32, kernel_size=(3, 3), stride=(1, 1), padding=(1, 1), bias=False)\n",
              "      (bn2): BatchNorm2d(32, eps=1e-05, momentum=0.1, affine=True, track_running_stats=True)\n",
              "      (downsample): Sequential(\n",
              "        (0): Conv2d(16, 32, kernel_size=(3, 3), stride=(2, 2), padding=(1, 1), bias=False)\n",
              "        (1): BatchNorm2d(32, eps=1e-05, momentum=0.1, affine=True, track_running_stats=True)\n",
              "      )\n",
              "    )\n",
              "    (1): ResidualBlock(\n",
              "      (conv1): Conv2d(32, 32, kernel_size=(3, 3), stride=(1, 1), padding=(1, 1), bias=False)\n",
              "      (bn1): BatchNorm2d(32, eps=1e-05, momentum=0.1, affine=True, track_running_stats=True)\n",
              "      (relu): ReLU(inplace=True)\n",
              "      (conv2): Conv2d(32, 32, kernel_size=(3, 3), stride=(1, 1), padding=(1, 1), bias=False)\n",
              "      (bn2): BatchNorm2d(32, eps=1e-05, momentum=0.1, affine=True, track_running_stats=True)\n",
              "    )\n",
              "  )\n",
              "  (layer3): Sequential(\n",
              "    (0): ResidualBlock(\n",
              "      (conv1): Conv2d(32, 64, kernel_size=(3, 3), stride=(2, 2), padding=(1, 1), bias=False)\n",
              "      (bn1): BatchNorm2d(64, eps=1e-05, momentum=0.1, affine=True, track_running_stats=True)\n",
              "      (relu): ReLU(inplace=True)\n",
              "      (conv2): Conv2d(64, 64, kernel_size=(3, 3), stride=(1, 1), padding=(1, 1), bias=False)\n",
              "      (bn2): BatchNorm2d(64, eps=1e-05, momentum=0.1, affine=True, track_running_stats=True)\n",
              "      (downsample): Sequential(\n",
              "        (0): Conv2d(32, 64, kernel_size=(3, 3), stride=(2, 2), padding=(1, 1), bias=False)\n",
              "        (1): BatchNorm2d(64, eps=1e-05, momentum=0.1, affine=True, track_running_stats=True)\n",
              "      )\n",
              "    )\n",
              "    (1): ResidualBlock(\n",
              "      (conv1): Conv2d(64, 64, kernel_size=(3, 3), stride=(1, 1), padding=(1, 1), bias=False)\n",
              "      (bn1): BatchNorm2d(64, eps=1e-05, momentum=0.1, affine=True, track_running_stats=True)\n",
              "      (relu): ReLU(inplace=True)\n",
              "      (conv2): Conv2d(64, 64, kernel_size=(3, 3), stride=(1, 1), padding=(1, 1), bias=False)\n",
              "      (bn2): BatchNorm2d(64, eps=1e-05, momentum=0.1, affine=True, track_running_stats=True)\n",
              "    )\n",
              "  )\n",
              "  (avg_pool): AvgPool2d(kernel_size=8, stride=8, padding=0)\n",
              "  (fc): Linear(in_features=64, out_features=10, bias=True)\n",
              ")"
            ]
          },
          "metadata": {},
          "execution_count": 10
        }
      ],
      "source": [
        "class ResNet(nn.Module):\n",
        "  def __init__(self ,block ,layers ,n_classes=10):\n",
        "    super(ResNet ,self).__init__()\n",
        "    self.in_channels =16\n",
        "    self.conv = conv3x3(3, 16)\n",
        "    self.bn = nn.BatchNorm2d(16)\n",
        "    self.relu = nn.ReLU(inplace=True)\n",
        "    self.layer1 = self.make_layer(block ,16 ,layers[0])\n",
        "    self.layer2 = self.make_layer(block ,32 ,layers[1] ,2)\n",
        "    self.layer3 = self.make_layer(block ,64 ,layers[2] ,2)\n",
        "    self.avg_pool = nn.AvgPool2d(8)\n",
        "    self.fc = nn.Linear(64 ,n_classes)\n",
        "\n",
        "  def make_layer(self, block ,out_channels ,blocks ,stride=1):\n",
        "    downsample=None\n",
        "    if (stride != 1) or (self.in_channels != out_channels):\n",
        "      downsample =nn.Sequential(conv3x3(self.in_channels ,out_channels ,stride=stride), nn.BatchNorm2d(out_channels))\n",
        "\n",
        "    layers =[]\n",
        "    layers.append(block(self.in_channels ,out_channels ,stride ,downsample))\n",
        "    self.in_channels =out_channels\n",
        "    for i in range(1 ,blocks):\n",
        "      layers.append(block(out_channels ,out_channels))\n",
        "    return nn.Sequential(*layers)\n",
        "\n",
        "  def forward(self,x):\n",
        "    out =self.conv(x)\n",
        "    out =self.bn(out)\n",
        "    out =self.relu(out)\n",
        "    out =self.layer1(out)\n",
        "    out =self.layer2(out)\n",
        "    out =self.layer3(out)\n",
        "    out= self.avg_pool(out)\n",
        "    out= out.view(out.size(0), -1)\n",
        "    out =self.fc(out)\n",
        "    return out\n",
        "model =ResNet(ResidualBlock, [2,2,2]).to(device)\n",
        "model"
      ]
    },
    {
      "cell_type": "markdown",
      "metadata": {
        "id": "lYCoK4wjYa2o"
      },
      "source": [
        "**Loss and Optimizer**"
      ]
    },
    {
      "cell_type": "code",
      "execution_count": 11,
      "metadata": {
        "id": "1lmxUSZ0BzQS"
      },
      "outputs": [],
      "source": [
        "criterion =nn.CrossEntropyLoss()\n",
        "optimizer = torch.optim.Adam(model.parameters() ,lr =learning_rate)"
      ]
    },
    {
      "cell_type": "markdown",
      "metadata": {
        "id": "X1xDustDZES4"
      },
      "source": [
        "**For updating learning rate**"
      ]
    },
    {
      "cell_type": "code",
      "execution_count": 12,
      "metadata": {
        "id": "_bGAECjVBzLk"
      },
      "outputs": [],
      "source": [
        "def update_lr(optimizer ,lr):\n",
        "  for param_group in optimizer.param_groups:\n",
        "    param_group['lr'] = lr\n"
      ]
    },
    {
      "cell_type": "markdown",
      "metadata": {
        "id": "h0t-Gzv5Zy68"
      },
      "source": [
        "**Train the Model**"
      ]
    },
    {
      "cell_type": "code",
      "execution_count": null,
      "metadata": {
        "colab": {
          "background_save": true,
          "base_uri": "https://localhost:8080/"
        },
        "id": "68cAF5JgBzKi",
        "outputId": "3031375e-2f0f-4254-a65f-1bed27cc8520"
      },
      "outputs": [
        {
          "output_type": "stream",
          "name": "stdout",
          "text": [
            "Epoch [1/80], Step [100/500] ,Loss: 1.7003\n",
            "Epoch [1/80], Step [200/500] ,Loss: 1.5223\n",
            "Epoch [1/80], Step [300/500] ,Loss: 1.3193\n",
            "Epoch [1/80], Step [400/500] ,Loss: 1.1921\n",
            "Epoch [1/80], Step [500/500] ,Loss: 1.2635\n",
            "Epoch [2/80], Step [100/500] ,Loss: 1.1594\n",
            "Epoch [2/80], Step [200/500] ,Loss: 1.0143\n",
            "Epoch [2/80], Step [300/500] ,Loss: 0.9772\n",
            "Epoch [2/80], Step [400/500] ,Loss: 0.9970\n",
            "Epoch [2/80], Step [500/500] ,Loss: 0.8887\n",
            "Epoch [3/80], Step [100/500] ,Loss: 0.9387\n",
            "Epoch [3/80], Step [200/500] ,Loss: 0.9213\n",
            "Epoch [3/80], Step [300/500] ,Loss: 1.0041\n",
            "Epoch [3/80], Step [400/500] ,Loss: 0.9138\n",
            "Epoch [3/80], Step [500/500] ,Loss: 0.8463\n",
            "Epoch [4/80], Step [100/500] ,Loss: 0.7033\n",
            "Epoch [4/80], Step [200/500] ,Loss: 0.9506\n",
            "Epoch [4/80], Step [300/500] ,Loss: 0.7429\n",
            "Epoch [4/80], Step [400/500] ,Loss: 0.7639\n",
            "Epoch [4/80], Step [500/500] ,Loss: 0.7459\n",
            "Epoch [5/80], Step [100/500] ,Loss: 0.5443\n",
            "Epoch [5/80], Step [200/500] ,Loss: 0.6410\n",
            "Epoch [5/80], Step [300/500] ,Loss: 0.9295\n",
            "Epoch [5/80], Step [400/500] ,Loss: 0.6420\n",
            "Epoch [5/80], Step [500/500] ,Loss: 0.6784\n",
            "Epoch [6/80], Step [100/500] ,Loss: 0.7621\n",
            "Epoch [6/80], Step [200/500] ,Loss: 0.5545\n",
            "Epoch [6/80], Step [300/500] ,Loss: 0.5553\n",
            "Epoch [6/80], Step [400/500] ,Loss: 0.6561\n",
            "Epoch [6/80], Step [500/500] ,Loss: 0.7383\n",
            "Epoch [7/80], Step [100/500] ,Loss: 0.5133\n",
            "Epoch [7/80], Step [200/500] ,Loss: 0.6205\n",
            "Epoch [7/80], Step [300/500] ,Loss: 0.4783\n",
            "Epoch [7/80], Step [400/500] ,Loss: 0.6196\n",
            "Epoch [7/80], Step [500/500] ,Loss: 0.5222\n",
            "Epoch [8/80], Step [100/500] ,Loss: 0.4832\n",
            "Epoch [8/80], Step [200/500] ,Loss: 0.5442\n",
            "Epoch [8/80], Step [300/500] ,Loss: 0.7256\n",
            "Epoch [8/80], Step [400/500] ,Loss: 0.6638\n",
            "Epoch [8/80], Step [500/500] ,Loss: 0.5894\n",
            "Epoch [9/80], Step [100/500] ,Loss: 0.6232\n",
            "Epoch [9/80], Step [200/500] ,Loss: 0.6127\n",
            "Epoch [9/80], Step [300/500] ,Loss: 0.4075\n",
            "Epoch [9/80], Step [400/500] ,Loss: 0.5507\n",
            "Epoch [9/80], Step [500/500] ,Loss: 0.3106\n",
            "Epoch [10/80], Step [100/500] ,Loss: 0.6214\n",
            "Epoch [10/80], Step [200/500] ,Loss: 0.6143\n",
            "Epoch [10/80], Step [300/500] ,Loss: 0.3697\n",
            "Epoch [10/80], Step [400/500] ,Loss: 0.3952\n",
            "Epoch [10/80], Step [500/500] ,Loss: 0.4217\n",
            "Epoch [11/80], Step [100/500] ,Loss: 0.4222\n",
            "Epoch [11/80], Step [200/500] ,Loss: 0.5172\n",
            "Epoch [11/80], Step [300/500] ,Loss: 0.3716\n",
            "Epoch [11/80], Step [400/500] ,Loss: 0.5860\n",
            "Epoch [11/80], Step [500/500] ,Loss: 0.3068\n",
            "Epoch [12/80], Step [100/500] ,Loss: 0.5055\n",
            "Epoch [12/80], Step [200/500] ,Loss: 0.4675\n",
            "Epoch [12/80], Step [300/500] ,Loss: 0.4293\n",
            "Epoch [12/80], Step [400/500] ,Loss: 0.3350\n",
            "Epoch [12/80], Step [500/500] ,Loss: 0.3891\n",
            "Epoch [13/80], Step [100/500] ,Loss: 0.3037\n",
            "Epoch [13/80], Step [200/500] ,Loss: 0.3837\n",
            "Epoch [13/80], Step [300/500] ,Loss: 0.3979\n",
            "Epoch [13/80], Step [400/500] ,Loss: 0.3540\n",
            "Epoch [13/80], Step [500/500] ,Loss: 0.5037\n",
            "Epoch [14/80], Step [100/500] ,Loss: 0.3226\n",
            "Epoch [14/80], Step [200/500] ,Loss: 0.4482\n",
            "Epoch [14/80], Step [300/500] ,Loss: 0.5948\n",
            "Epoch [14/80], Step [400/500] ,Loss: 0.3220\n",
            "Epoch [14/80], Step [500/500] ,Loss: 0.5086\n",
            "Epoch [15/80], Step [100/500] ,Loss: 0.3217\n",
            "Epoch [15/80], Step [200/500] ,Loss: 0.3290\n",
            "Epoch [15/80], Step [300/500] ,Loss: 0.5140\n",
            "Epoch [15/80], Step [400/500] ,Loss: 0.2850\n",
            "Epoch [15/80], Step [500/500] ,Loss: 0.5709\n",
            "Epoch [16/80], Step [100/500] ,Loss: 0.4282\n",
            "Epoch [16/80], Step [200/500] ,Loss: 0.3455\n",
            "Epoch [16/80], Step [300/500] ,Loss: 0.4482\n",
            "Epoch [16/80], Step [400/500] ,Loss: 0.4156\n",
            "Epoch [16/80], Step [500/500] ,Loss: 0.3323\n",
            "Epoch [17/80], Step [100/500] ,Loss: 0.5315\n",
            "Epoch [17/80], Step [200/500] ,Loss: 0.5199\n",
            "Epoch [17/80], Step [300/500] ,Loss: 0.3351\n",
            "Epoch [17/80], Step [400/500] ,Loss: 0.4203\n",
            "Epoch [17/80], Step [500/500] ,Loss: 0.3181\n",
            "Epoch [18/80], Step [100/500] ,Loss: 0.3053\n",
            "Epoch [18/80], Step [200/500] ,Loss: 0.3264\n",
            "Epoch [18/80], Step [300/500] ,Loss: 0.2782\n",
            "Epoch [18/80], Step [400/500] ,Loss: 0.3396\n",
            "Epoch [18/80], Step [500/500] ,Loss: 0.2552\n",
            "Epoch [19/80], Step [100/500] ,Loss: 0.2790\n",
            "Epoch [19/80], Step [200/500] ,Loss: 0.4746\n",
            "Epoch [19/80], Step [300/500] ,Loss: 0.2162\n",
            "Epoch [19/80], Step [400/500] ,Loss: 0.3126\n",
            "Epoch [19/80], Step [500/500] ,Loss: 0.4030\n",
            "Epoch [20/80], Step [100/500] ,Loss: 0.3279\n",
            "Epoch [20/80], Step [200/500] ,Loss: 0.1902\n",
            "Epoch [20/80], Step [300/500] ,Loss: 0.2798\n",
            "Epoch [20/80], Step [400/500] ,Loss: 0.4938\n",
            "Epoch [20/80], Step [500/500] ,Loss: 0.2717\n",
            "Epoch [21/80], Step [100/500] ,Loss: 0.3277\n",
            "Epoch [21/80], Step [200/500] ,Loss: 0.3859\n",
            "Epoch [21/80], Step [300/500] ,Loss: 0.1358\n",
            "Epoch [21/80], Step [400/500] ,Loss: 0.1956\n",
            "Epoch [21/80], Step [500/500] ,Loss: 0.2388\n",
            "Epoch [22/80], Step [100/500] ,Loss: 0.2555\n",
            "Epoch [22/80], Step [200/500] ,Loss: 0.3765\n",
            "Epoch [22/80], Step [300/500] ,Loss: 0.3012\n",
            "Epoch [22/80], Step [400/500] ,Loss: 0.1664\n",
            "Epoch [22/80], Step [500/500] ,Loss: 0.2663\n",
            "Epoch [23/80], Step [100/500] ,Loss: 0.1492\n",
            "Epoch [23/80], Step [200/500] ,Loss: 0.1671\n",
            "Epoch [23/80], Step [300/500] ,Loss: 0.3250\n",
            "Epoch [23/80], Step [400/500] ,Loss: 0.1878\n",
            "Epoch [23/80], Step [500/500] ,Loss: 0.2752\n",
            "Epoch [24/80], Step [100/500] ,Loss: 0.2758\n",
            "Epoch [24/80], Step [200/500] ,Loss: 0.2636\n",
            "Epoch [24/80], Step [300/500] ,Loss: 0.2665\n",
            "Epoch [24/80], Step [400/500] ,Loss: 0.2598\n",
            "Epoch [24/80], Step [500/500] ,Loss: 0.3539\n",
            "Epoch [25/80], Step [100/500] ,Loss: 0.1263\n",
            "Epoch [25/80], Step [200/500] ,Loss: 0.1668\n",
            "Epoch [25/80], Step [300/500] ,Loss: 0.1752\n",
            "Epoch [25/80], Step [400/500] ,Loss: 0.2180\n",
            "Epoch [25/80], Step [500/500] ,Loss: 0.2330\n",
            "Epoch [26/80], Step [100/500] ,Loss: 0.2527\n",
            "Epoch [26/80], Step [200/500] ,Loss: 0.2399\n",
            "Epoch [26/80], Step [300/500] ,Loss: 0.2214\n",
            "Epoch [26/80], Step [400/500] ,Loss: 0.2272\n",
            "Epoch [26/80], Step [500/500] ,Loss: 0.3330\n",
            "Epoch [27/80], Step [100/500] ,Loss: 0.2309\n",
            "Epoch [27/80], Step [200/500] ,Loss: 0.2401\n",
            "Epoch [27/80], Step [300/500] ,Loss: 0.1731\n",
            "Epoch [27/80], Step [400/500] ,Loss: 0.2016\n",
            "Epoch [27/80], Step [500/500] ,Loss: 0.2492\n",
            "Epoch [28/80], Step [100/500] ,Loss: 0.4140\n",
            "Epoch [28/80], Step [200/500] ,Loss: 0.3797\n",
            "Epoch [28/80], Step [300/500] ,Loss: 0.1385\n",
            "Epoch [28/80], Step [400/500] ,Loss: 0.3733\n",
            "Epoch [28/80], Step [500/500] ,Loss: 0.1989\n",
            "Epoch [29/80], Step [100/500] ,Loss: 0.2022\n",
            "Epoch [29/80], Step [200/500] ,Loss: 0.2425\n",
            "Epoch [29/80], Step [300/500] ,Loss: 0.2268\n",
            "Epoch [29/80], Step [400/500] ,Loss: 0.2924\n",
            "Epoch [29/80], Step [500/500] ,Loss: 0.2414\n",
            "Epoch [30/80], Step [100/500] ,Loss: 0.1102\n",
            "Epoch [30/80], Step [200/500] ,Loss: 0.2787\n",
            "Epoch [30/80], Step [300/500] ,Loss: 0.2092\n",
            "Epoch [30/80], Step [400/500] ,Loss: 0.2233\n",
            "Epoch [30/80], Step [500/500] ,Loss: 0.2057\n",
            "Epoch [31/80], Step [100/500] ,Loss: 0.2346\n",
            "Epoch [31/80], Step [200/500] ,Loss: 0.2835\n",
            "Epoch [31/80], Step [300/500] ,Loss: 0.2051\n",
            "Epoch [31/80], Step [400/500] ,Loss: 0.1867\n",
            "Epoch [31/80], Step [500/500] ,Loss: 0.1850\n",
            "Epoch [32/80], Step [100/500] ,Loss: 0.2165\n",
            "Epoch [32/80], Step [200/500] ,Loss: 0.3368\n",
            "Epoch [32/80], Step [300/500] ,Loss: 0.2328\n",
            "Epoch [32/80], Step [400/500] ,Loss: 0.2698\n",
            "Epoch [32/80], Step [500/500] ,Loss: 0.1437\n",
            "Epoch [33/80], Step [100/500] ,Loss: 0.2132\n",
            "Epoch [33/80], Step [200/500] ,Loss: 0.1371\n",
            "Epoch [33/80], Step [300/500] ,Loss: 0.1937\n",
            "Epoch [33/80], Step [400/500] ,Loss: 0.1370\n",
            "Epoch [33/80], Step [500/500] ,Loss: 0.1403\n",
            "Epoch [34/80], Step [100/500] ,Loss: 0.1893\n",
            "Epoch [34/80], Step [200/500] ,Loss: 0.1658\n",
            "Epoch [34/80], Step [300/500] ,Loss: 0.2492\n",
            "Epoch [34/80], Step [400/500] ,Loss: 0.1850\n",
            "Epoch [34/80], Step [500/500] ,Loss: 0.2096\n",
            "Epoch [35/80], Step [100/500] ,Loss: 0.1908\n",
            "Epoch [35/80], Step [200/500] ,Loss: 0.1390\n",
            "Epoch [35/80], Step [300/500] ,Loss: 0.2022\n",
            "Epoch [35/80], Step [400/500] ,Loss: 0.2335\n",
            "Epoch [35/80], Step [500/500] ,Loss: 0.2725\n",
            "Epoch [36/80], Step [100/500] ,Loss: 0.1442\n",
            "Epoch [36/80], Step [200/500] ,Loss: 0.1193\n",
            "Epoch [36/80], Step [300/500] ,Loss: 0.1603\n",
            "Epoch [36/80], Step [400/500] ,Loss: 0.1674\n",
            "Epoch [36/80], Step [500/500] ,Loss: 0.1162\n",
            "Epoch [37/80], Step [100/500] ,Loss: 0.1633\n",
            "Epoch [37/80], Step [200/500] ,Loss: 0.1522\n",
            "Epoch [37/80], Step [300/500] ,Loss: 0.4083\n",
            "Epoch [37/80], Step [400/500] ,Loss: 0.1925\n",
            "Epoch [37/80], Step [500/500] ,Loss: 0.0946\n",
            "Epoch [38/80], Step [100/500] ,Loss: 0.1955\n",
            "Epoch [38/80], Step [200/500] ,Loss: 0.1321\n",
            "Epoch [38/80], Step [300/500] ,Loss: 0.2206\n",
            "Epoch [38/80], Step [400/500] ,Loss: 0.1558\n",
            "Epoch [38/80], Step [500/500] ,Loss: 0.2643\n",
            "Epoch [39/80], Step [100/500] ,Loss: 0.0910\n",
            "Epoch [39/80], Step [200/500] ,Loss: 0.1388\n",
            "Epoch [39/80], Step [300/500] ,Loss: 0.2121\n",
            "Epoch [39/80], Step [400/500] ,Loss: 0.3202\n",
            "Epoch [39/80], Step [500/500] ,Loss: 0.1291\n",
            "Epoch [40/80], Step [100/500] ,Loss: 0.1663\n",
            "Epoch [40/80], Step [200/500] ,Loss: 0.1002\n",
            "Epoch [40/80], Step [300/500] ,Loss: 0.1009\n",
            "Epoch [40/80], Step [400/500] ,Loss: 0.1652\n",
            "Epoch [40/80], Step [500/500] ,Loss: 0.1599\n",
            "Epoch [41/80], Step [100/500] ,Loss: 0.1575\n",
            "Epoch [41/80], Step [200/500] ,Loss: 0.1139\n",
            "Epoch [41/80], Step [300/500] ,Loss: 0.1465\n",
            "Epoch [41/80], Step [400/500] ,Loss: 0.1186\n",
            "Epoch [41/80], Step [500/500] ,Loss: 0.0793\n",
            "Epoch [42/80], Step [100/500] ,Loss: 0.1080\n",
            "Epoch [42/80], Step [200/500] ,Loss: 0.1222\n",
            "Epoch [42/80], Step [300/500] ,Loss: 0.1782\n",
            "Epoch [42/80], Step [400/500] ,Loss: 0.0572\n",
            "Epoch [42/80], Step [500/500] ,Loss: 0.2345\n",
            "Epoch [43/80], Step [100/500] ,Loss: 0.2044\n",
            "Epoch [43/80], Step [200/500] ,Loss: 0.2128\n",
            "Epoch [43/80], Step [300/500] ,Loss: 0.1646\n",
            "Epoch [43/80], Step [400/500] ,Loss: 0.2129\n",
            "Epoch [43/80], Step [500/500] ,Loss: 0.0945\n",
            "Epoch [44/80], Step [100/500] ,Loss: 0.0993\n"
          ]
        }
      ],
      "source": [
        "total_step =len(train_loader)\n",
        "curr_lr =learning_rate\n",
        "for epoch in range(n_epochs):\n",
        "  for i ,(images ,labels) in enumerate(train_loader):\n",
        "     images =images.to(device)\n",
        "     labels =labels.to(device)\n",
        "     # forward pass\n",
        "     outputs =model(images)\n",
        "     loss =criterion(outputs ,labels)\n",
        "\n",
        "     # Backward and optimize\n",
        "     optimizer.zero_grad()\n",
        "     loss.backward()\n",
        "     optimizer.step()\n",
        "     if (i+1) % 100 == 0:\n",
        "      print(\"Epoch [{}/{}], Step [{}/{}] ,Loss: {:.4f}\".format(epoch+1 ,n_epochs, i+1 ,total_step ,loss.item()))\n",
        "\n",
        "  if (epoch +1) % 20 ==0:\n",
        "    curr_lr /= 3\n",
        "    update_lr(optimizer ,curr_lr)"
      ]
    },
    {
      "cell_type": "markdown",
      "metadata": {
        "id": "cBhwdXE7hFdY"
      },
      "source": [
        "**Test model**"
      ]
    },
    {
      "cell_type": "code",
      "execution_count": null,
      "metadata": {
        "id": "MKvT2ZlOBzFf"
      },
      "outputs": [],
      "source": [
        "model.eval()\n",
        "with torch.no_grad():\n",
        "  correct=0\n",
        "  total=0\n",
        "  for images ,labels in test_loader:\n",
        "    images =images.to(device)\n",
        "    labels = labels.to(device)\n",
        "    outputs =model(images)\n",
        "    _, predicted = torch.max(outputs.data ,1)\n",
        "    total += labels.size(0)\n",
        "    correct += (predicted == labels).sum().item()\n",
        "\n",
        "  print('Accuracy of model on Test Images: {} %'.format(100 * correct / total))\n",
        "\n",
        "torch.save(mode.state_dict() ,'deep_residual_net')"
      ]
    },
    {
      "cell_type": "code",
      "execution_count": null,
      "metadata": {
        "id": "llV2CCLnBzEd"
      },
      "outputs": [],
      "source": []
    }
  ],
  "metadata": {
    "colab": {
      "provenance": [],
      "authorship_tag": "ABX9TyOXA3XKSlOiTaGEzy9tLWx4",
      "include_colab_link": true
    },
    "kernelspec": {
      "display_name": "Python 3",
      "name": "python3"
    },
    "language_info": {
      "name": "python"
    }
  },
  "nbformat": 4,
  "nbformat_minor": 0
}