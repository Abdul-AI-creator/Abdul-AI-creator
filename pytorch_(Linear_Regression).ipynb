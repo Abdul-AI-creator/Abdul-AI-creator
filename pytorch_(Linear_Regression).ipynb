{
  "nbformat": 4,
  "nbformat_minor": 0,
  "metadata": {
    "colab": {
      "provenance": [],
      "authorship_tag": "ABX9TyNetl9nPa0M7lHtbcWhMVNj",
      "include_colab_link": true
    },
    "kernelspec": {
      "name": "python3",
      "display_name": "Python 3"
    },
    "language_info": {
      "name": "python"
    }
  },
  "cells": [
    {
      "cell_type": "markdown",
      "metadata": {
        "id": "view-in-github",
        "colab_type": "text"
      },
      "source": [
        "<a href=\"https://colab.research.google.com/github/Abdul-AI-creator/Abdul-AI-creator/blob/main/pytorch_(Linear_Regression).ipynb\" target=\"_parent\"><img src=\"https://colab.research.google.com/assets/colab-badge.svg\" alt=\"Open In Colab\"/></a>"
      ]
    },
    {
      "cell_type": "code",
      "execution_count": 2,
      "metadata": {
        "id": "D7563cpj0DFX"
      },
      "outputs": [],
      "source": [
        "import torch\n",
        "import torch.nn as nn\n",
        "import numpy as np\n",
        "import matplotlib.pyplot as plt"
      ]
    },
    {
      "cell_type": "markdown",
      "source": [
        "**Hyperparameters**"
      ],
      "metadata": {
        "id": "xmh4SVBK030G"
      }
    },
    {
      "cell_type": "code",
      "source": [
        "input_size =1\n",
        "output_size =1\n",
        "n_epochs =5\n",
        "learning_rate =0.005"
      ],
      "metadata": {
        "id": "vnePxg9h03Sw"
      },
      "execution_count": 3,
      "outputs": []
    },
    {
      "cell_type": "markdown",
      "source": [
        "**Sample Dataset**"
      ],
      "metadata": {
        "id": "lDpLaJi63rRh"
      }
    },
    {
      "cell_type": "code",
      "source": [
        "X_train = np.array([[3.3], [4.4], [5.5], [6.71], [6.93], [4.168],\n",
        "                    [9.779], [6.182], [7.59], [2.167], [7.042],\n",
        "                    [10.791], [5.313], [7.997], [3.1]],dtype=np.float32)\n",
        "\n",
        "Y_train = np.array([[1.7], [2.76], [2.09], [3.19], [1.694], [1.573],\n",
        "                    [3.366], [2.596], [2.53], [1.221], [2.827],\n",
        "                    [3.465], [1.65], [2.904], [1.3]],dtype=np.float32)\n"
      ],
      "metadata": {
        "id": "CAlotqrM03OB"
      },
      "execution_count": 4,
      "outputs": []
    },
    {
      "cell_type": "code",
      "source": [
        "# linear Regression Model\n",
        "model =nn.Linear(input_size ,output_size)\n",
        "model"
      ],
      "metadata": {
        "id": "R3Ef1Zi203K3",
        "colab": {
          "base_uri": "https://localhost:8080/"
        },
        "outputId": "1a29ad2c-61ac-4989-9262-eabace762258"
      },
      "execution_count": 6,
      "outputs": [
        {
          "output_type": "execute_result",
          "data": {
            "text/plain": [
              "Linear(in_features=1, out_features=1, bias=True)"
            ]
          },
          "metadata": {},
          "execution_count": 6
        }
      ]
    },
    {
      "cell_type": "code",
      "source": [
        "# Loss and Optimizer\n",
        "criterion = nn.MSELoss()\n",
        "optimizer = torch.optim.SGD(model.parameters(),lr=learning_rate)\n",
        "optimizer"
      ],
      "metadata": {
        "id": "Ki0Bu9qq03IY",
        "colab": {
          "base_uri": "https://localhost:8080/"
        },
        "outputId": "3adf1761-f3b8-4125-efca-ec5ad23c875b"
      },
      "execution_count": 7,
      "outputs": [
        {
          "output_type": "execute_result",
          "data": {
            "text/plain": [
              "SGD (\n",
              "Parameter Group 0\n",
              "    dampening: 0\n",
              "    differentiable: False\n",
              "    foreach: None\n",
              "    fused: None\n",
              "    lr: 0.005\n",
              "    maximize: False\n",
              "    momentum: 0\n",
              "    nesterov: False\n",
              "    weight_decay: 0\n",
              ")"
            ]
          },
          "metadata": {},
          "execution_count": 7
        }
      ]
    },
    {
      "cell_type": "markdown",
      "source": [
        "**Train Model**"
      ],
      "metadata": {
        "id": "ys2oIvBh49kc"
      }
    },
    {
      "cell_type": "code",
      "source": [
        "for epoch in range(n_epochs):\n",
        "  # convert numpy array to torch tensor\n",
        "  inputs = torch.from_numpy(X_train)\n",
        "  targets = torch.from_numpy(Y_train)\n",
        "\n",
        "  # Forward Pass\n",
        "  outputs =model(inputs)\n",
        "  loss = criterion(outputs ,targets)\n",
        "\n",
        "  # Backward and Optimize\n",
        "  optimizer.zero_grad()\n",
        "  loss.backward()\n",
        "  optimizer.step()\n",
        "\n",
        "  if (epoch+1) % 5==0:\n",
        "    print(\"Epoch [{}/{}], Loss: {:.4f}\".format(epoch+1 ,n_epochs ,loss.item()))\n"
      ],
      "metadata": {
        "id": "uNHwwRdZ03GC",
        "colab": {
          "base_uri": "https://localhost:8080/"
        },
        "outputId": "eb5ab367-26a2-4bb7-8802-ce4fa233b317"
      },
      "execution_count": 8,
      "outputs": [
        {
          "output_type": "stream",
          "name": "stdout",
          "text": [
            "Epoch [5/5], Loss: 0.3503\n"
          ]
        }
      ]
    },
    {
      "cell_type": "markdown",
      "source": [
        "**plot graph**"
      ],
      "metadata": {
        "id": "kFvS8_Lz6ot5"
      }
    },
    {
      "cell_type": "code",
      "source": [
        "predicted =model(torch.from_numpy(X_train)).detach().numpy()\n",
        "plt.plot(X_train ,Y_train ,'ro',label='Original_data')\n",
        "plt.plot(X_train ,predicted ,label=\"Fitted Line\")\n",
        "plt.legend()\n",
        "plt.show()"
      ],
      "metadata": {
        "id": "oB0sGn5U03Dj",
        "colab": {
          "base_uri": "https://localhost:8080/",
          "height": 430
        },
        "outputId": "f05df339-57e9-4639-f09a-7dbac34cf00b"
      },
      "execution_count": 10,
      "outputs": [
        {
          "output_type": "display_data",
          "data": {
            "text/plain": [
              "<Figure size 640x480 with 1 Axes>"
            ],
            "image/png": "[encoded data removed]"
          },
          "metadata": {}
        }
      ]
    },
    {
      "cell_type": "markdown",
      "source": [
        "**Saving model**"
      ],
      "metadata": {
        "id": "0IEt6Gub7cOG"
      }
    },
    {
      "cell_type": "code",
      "source": [
        "torch.save(model.state_dict(),'torch_with_LinearRegression.csv')"
      ],
      "metadata": {
        "id": "hMm_duaS03BS"
      },
      "execution_count": 12,
      "outputs": []
    }
  ]
}