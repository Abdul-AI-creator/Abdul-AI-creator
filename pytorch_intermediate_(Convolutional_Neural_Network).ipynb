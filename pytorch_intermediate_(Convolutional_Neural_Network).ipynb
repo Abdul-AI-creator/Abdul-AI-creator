{
  "nbformat": 4,
  "nbformat_minor": 0,
  "metadata": {
    "colab": {
      "provenance": [],
      "authorship_tag": "ABX9TyPWt+dRx9xa+Et9zh5Btc0w",
      "include_colab_link": true
    },
    "kernelspec": {
      "name": "python3",
      "display_name": "Python 3"
    },
    "language_info": {
      "name": "python"
    }
  },
  "cells": [
    {
      "cell_type": "markdown",
      "metadata": {
        "id": "view-in-github",
        "colab_type": "text"
      },
      "source": [
        "<a href=\"https://colab.research.google.com/github/Abdul-AI-creator/Abdul-AI-creator/blob/main/pytorch_intermediate_(Convolutional_Neural_Network).ipynb\" target=\"_parent\"><img src=\"https://colab.research.google.com/assets/colab-badge.svg\" alt=\"Open In Colab\"/></a>"
      ]
    },
    {
      "cell_type": "markdown",
      "source": [
        "# Convolutional Neural Network\n",
        "**(CNN) is a specialized type of artificial neural network designed to process structured data like images, video, and text. CNNs excel in tasks involving spatial or sequential hierarchies, such as recognizing patterns, shapes, and objects**"
      ],
      "metadata": {
        "id": "xXZzXksRwAHp"
      }
    },
    {
      "cell_type": "code",
      "execution_count": 1,
      "metadata": {
        "id": "_fThfcxikVN9"
      },
      "outputs": [],
      "source": [
        "import torch\n",
        "import torch.nn as nn\n",
        "import torchvision\n",
        "import torchvision.transforms as transforms"
      ]
    },
    {
      "cell_type": "markdown",
      "source": [
        "device configuration"
      ],
      "metadata": {
        "id": "bvC0kmX0X4RU"
      }
    },
    {
      "cell_type": "code",
      "source": [
        "device = torch.device('cuda:0' if torch.cuda.is_available() else 'cpu')\n",
        "device"
      ],
      "metadata": {
        "colab": {
          "base_uri": "https://localhost:8080/"
        },
        "id": "viLdqWP5XeK7",
        "outputId": "097a4de3-7ef7-4478-dd45-30702c0a447a"
      },
      "execution_count": 2,
      "outputs": [
        {
          "output_type": "execute_result",
          "data": {
            "text/plain": [
              "device(type='cpu')"
            ]
          },
          "metadata": {},
          "execution_count": 2
        }
      ]
    },
    {
      "cell_type": "markdown",
      "source": [
        "Hyperparameters"
      ],
      "metadata": {
        "id": "jV91Q7MOX1Sb"
      }
    },
    {
      "cell_type": "code",
      "source": [
        "n_epochs =5\n",
        "n_classes =10\n",
        "batch_size=100\n",
        "learning_rate =0.001"
      ],
      "metadata": {
        "id": "GGqr2xgLXeKE"
      },
      "execution_count": 3,
      "outputs": []
    },
    {
      "cell_type": "markdown",
      "source": [
        "MNIST DATASETS"
      ],
      "metadata": {
        "id": "mFdjGubVYGFe"
      }
    },
    {
      "cell_type": "code",
      "source": [
        "train_ds = torchvision.datasets.MNIST(root='data' ,train=True ,download=True ,transform=transforms.ToTensor())\n",
        "test_ds = torchvision.datasets.MNIST(root='data', transform=transforms.ToTensor() ,train=False)"
      ],
      "metadata": {
        "colab": {
          "base_uri": "https://localhost:8080/"
        },
        "id": "yptkkyNQXeEv",
        "outputId": "7f3d2bfc-0600-48d0-a710-bfb85f616e63"
      },
      "execution_count": 4,
      "outputs": [
        {
          "output_type": "stream",
          "name": "stdout",
          "text": [
            "Downloading http://yann.lecun.com/exdb/mnist/train-images-idx3-ubyte.gz\n",
            "Failed to download (trying next):\n",
            "HTTP Error 403: Forbidden\n",
            "\n",
            "Downloading https://ossci-datasets.s3.amazonaws.com/mnist/train-images-idx3-ubyte.gz\n",
            "Downloading https://ossci-datasets.s3.amazonaws.com/mnist/train-images-idx3-ubyte.gz to data/MNIST/raw/train-images-idx3-ubyte.gz\n"
          ]
        },
        {
          "output_type": "stream",
          "name": "stderr",
          "text": [
            "100%|██████████| 9.91M/9.91M [00:00<00:00, 57.5MB/s]\n"
          ]
        },
        {
          "output_type": "stream",
          "name": "stdout",
          "text": [
            "Extracting data/MNIST/raw/train-images-idx3-ubyte.gz to data/MNIST/raw\n",
            "\n",
            "Downloading http://yann.lecun.com/exdb/mnist/train-labels-idx1-ubyte.gz\n",
            "Failed to download (trying next):\n",
            "HTTP Error 403: Forbidden\n",
            "\n",
            "Downloading https://ossci-datasets.s3.amazonaws.com/mnist/train-labels-idx1-ubyte.gz\n",
            "Downloading https://ossci-datasets.s3.amazonaws.com/mnist/train-labels-idx1-ubyte.gz to data/MNIST/raw/train-labels-idx1-ubyte.gz\n"
          ]
        },
        {
          "output_type": "stream",
          "name": "stderr",
          "text": [
            "100%|██████████| 28.9k/28.9k [00:00<00:00, 1.91MB/s]"
          ]
        },
        {
          "output_type": "stream",
          "name": "stdout",
          "text": [
            "Extracting data/MNIST/raw/train-labels-idx1-ubyte.gz to data/MNIST/raw\n",
            "\n",
            "Downloading http://yann.lecun.com/exdb/mnist/t10k-images-idx3-ubyte.gz\n"
          ]
        },
        {
          "output_type": "stream",
          "name": "stderr",
          "text": [
            "\n"
          ]
        },
        {
          "output_type": "stream",
          "name": "stdout",
          "text": [
            "Failed to download (trying next):\n",
            "HTTP Error 403: Forbidden\n",
            "\n",
            "Downloading https://ossci-datasets.s3.amazonaws.com/mnist/t10k-images-idx3-ubyte.gz\n",
            "Downloading https://ossci-datasets.s3.amazonaws.com/mnist/t10k-images-idx3-ubyte.gz to data/MNIST/raw/t10k-images-idx3-ubyte.gz\n"
          ]
        },
        {
          "output_type": "stream",
          "name": "stderr",
          "text": [
            "100%|██████████| 1.65M/1.65M [00:00<00:00, 14.4MB/s]\n"
          ]
        },
        {
          "output_type": "stream",
          "name": "stdout",
          "text": [
            "Extracting data/MNIST/raw/t10k-images-idx3-ubyte.gz to data/MNIST/raw\n",
            "\n",
            "Downloading http://yann.lecun.com/exdb/mnist/t10k-labels-idx1-ubyte.gz\n",
            "Failed to download (trying next):\n",
            "HTTP Error 403: Forbidden\n",
            "\n",
            "Downloading https://ossci-datasets.s3.amazonaws.com/mnist/t10k-labels-idx1-ubyte.gz\n",
            "Downloading https://ossci-datasets.s3.amazonaws.com/mnist/t10k-labels-idx1-ubyte.gz to data/MNIST/raw/t10k-labels-idx1-ubyte.gz\n"
          ]
        },
        {
          "output_type": "stream",
          "name": "stderr",
          "text": [
            "100%|██████████| 4.54k/4.54k [00:00<00:00, 2.36MB/s]"
          ]
        },
        {
          "output_type": "stream",
          "name": "stdout",
          "text": [
            "Extracting data/MNIST/raw/t10k-labels-idx1-ubyte.gz to data/MNIST/raw\n",
            "\n"
          ]
        },
        {
          "output_type": "stream",
          "name": "stderr",
          "text": [
            "\n"
          ]
        }
      ]
    },
    {
      "cell_type": "markdown",
      "source": [
        "Data Loader"
      ],
      "metadata": {
        "id": "MtGGY9s8Yro3"
      }
    },
    {
      "cell_type": "code",
      "source": [
        "train_loader = torch.utils.data.DataLoader(dataset =train_ds ,batch_size=batch_size ,shuffle=True)\n",
        "test_loader = torch.utils.data.DataLoader(dataset=test_ds ,batch_size=batch_size ,shuffle=False)"
      ],
      "metadata": {
        "id": "ck_plhkjXeD3"
      },
      "execution_count": 6,
      "outputs": []
    },
    {
      "cell_type": "markdown",
      "source": [
        "**Convolutional neural network (two convolutional layers)**"
      ],
      "metadata": {
        "id": "hIPkIyWyZPCv"
      }
    },
    {
      "cell_type": "code",
      "source": [
        "class convNet(nn.Module):\n",
        "  def __init__(self , n_classes=10):\n",
        "    super(convNet ,self).__init__()\n",
        "    self.layer1 =nn.Sequential(\n",
        "        nn.Conv2d(1, 16 ,kernel_size=5 ,stride=1 ,padding=2),\n",
        "        nn.BatchNorm2d(16), nn.ReLU(), nn.MaxPool2d(kernel_size=2 ,stride=2))\n",
        "    self.layer2 = nn.Sequential(\n",
        "        nn.Conv2d(16, 32 ,kernel_size=5 ,stride=1 ,padding=2),\n",
        "        nn.BatchNorm2d(32) ,nn.ReLU() ,nn.MaxPool2d(kernel_size=2 ,stride=2))\n",
        "    self.fc = nn.Linear(7*7*32 ,n_classes)\n",
        "\n",
        "  def forward(self ,x):\n",
        "    out = self.layer1(x)\n",
        "    out = self.layer2(out)\n",
        "    out = out.reshape(out.size(0) ,-1)\n",
        "    out = self.fc(out)\n",
        "    return out\n",
        "\n",
        "model = convNet(n_classes).to(device)\n",
        "model"
      ],
      "metadata": {
        "colab": {
          "base_uri": "https://localhost:8080/"
        },
        "id": "X6aCHefwXd-k",
        "outputId": "4a616a2f-20bd-4b0e-a1c8-97b509274801"
      },
      "execution_count": 10,
      "outputs": [
        {
          "output_type": "execute_result",
          "data": {
            "text/plain": [
              "convNet(\n",
              "  (layer1): Sequential(\n",
              "    (0): Conv2d(1, 16, kernel_size=(5, 5), stride=(1, 1), padding=(2, 2))\n",
              "    (1): BatchNorm2d(16, eps=1e-05, momentum=0.1, affine=True, track_running_stats=True)\n",
              "    (2): ReLU()\n",
              "    (3): MaxPool2d(kernel_size=2, stride=2, padding=0, dilation=1, ceil_mode=False)\n",
              "  )\n",
              "  (layer2): Sequential(\n",
              "    (0): Conv2d(16, 32, kernel_size=(5, 5), stride=(1, 1), padding=(2, 2))\n",
              "    (1): BatchNorm2d(32, eps=1e-05, momentum=0.1, affine=True, track_running_stats=True)\n",
              "    (2): ReLU()\n",
              "    (3): MaxPool2d(kernel_size=2, stride=2, padding=0, dilation=1, ceil_mode=False)\n",
              "  )\n",
              "  (fc): Linear(in_features=1568, out_features=10, bias=True)\n",
              ")"
            ]
          },
          "metadata": {},
          "execution_count": 10
        }
      ]
    },
    {
      "cell_type": "markdown",
      "source": [
        "Loss and Optimizer"
      ],
      "metadata": {
        "id": "F_9SJMxGjSIJ"
      }
    },
    {
      "cell_type": "code",
      "source": [
        "criterion = nn.CrossEntropyLoss()\n",
        "optimizer = torch.optim.Adam(model.parameters() ,lr =learning_rate)"
      ],
      "metadata": {
        "id": "8mQ9e6rpXd9r"
      },
      "execution_count": 13,
      "outputs": []
    },
    {
      "cell_type": "markdown",
      "source": [
        "# Train the model"
      ],
      "metadata": {
        "id": "xEsT1YYwkHHF"
      }
    },
    {
      "cell_type": "code",
      "source": [
        "total_step =len(train_loader)\n",
        "for epoch in range(n_epochs):\n",
        "  for i ,(images , labels) in enumerate(train_loader):\n",
        "    images =images.to(device)\n",
        "    labels = labels.to(device)\n",
        "    # forward pass\n",
        "    outputs =model(images)\n",
        "    loss = criterion(outputs ,labels)\n",
        "    # backward and optimize\n",
        "    optimizer.zero_grad()\n",
        "    loss.backward()\n",
        "    optimizer.step()\n",
        "\n",
        "    if (i+1) % 100 ==0:\n",
        "      print('Epoch [{}/{}], Step [{}/{}], Loss: {:.4f}'.format(epoch+1 ,n_epochs ,i+1 ,total_step ,loss.item()))"
      ],
      "metadata": {
        "colab": {
          "base_uri": "https://localhost:8080/"
        },
        "id": "JGW7xub5Xd4M",
        "outputId": "04e29199-fb53-4c81-ec2b-7a5fa7765cde"
      },
      "execution_count": 14,
      "outputs": [
        {
          "output_type": "stream",
          "name": "stdout",
          "text": [
            "Epoch [1/5], Step [100/600], Loss: 0.1712\n",
            "Epoch [1/5], Step [200/600], Loss: 0.2306\n",
            "Epoch [1/5], Step [300/600], Loss: 0.0540\n",
            "Epoch [1/5], Step [400/600], Loss: 0.0887\n",
            "Epoch [1/5], Step [500/600], Loss: 0.0903\n",
            "Epoch [1/5], Step [600/600], Loss: 0.0315\n",
            "Epoch [2/5], Step [100/600], Loss: 0.0382\n",
            "Epoch [2/5], Step [200/600], Loss: 0.0486\n",
            "Epoch [2/5], Step [300/600], Loss: 0.0172\n",
            "Epoch [2/5], Step [400/600], Loss: 0.0626\n",
            "Epoch [2/5], Step [500/600], Loss: 0.0367\n",
            "Epoch [2/5], Step [600/600], Loss: 0.0401\n",
            "Epoch [3/5], Step [100/600], Loss: 0.0065\n",
            "Epoch [3/5], Step [200/600], Loss: 0.0442\n",
            "Epoch [3/5], Step [300/600], Loss: 0.0153\n",
            "Epoch [3/5], Step [400/600], Loss: 0.0177\n",
            "Epoch [3/5], Step [500/600], Loss: 0.0134\n",
            "Epoch [3/5], Step [600/600], Loss: 0.1297\n",
            "Epoch [4/5], Step [100/600], Loss: 0.0269\n",
            "Epoch [4/5], Step [200/600], Loss: 0.0438\n",
            "Epoch [4/5], Step [300/600], Loss: 0.0079\n",
            "Epoch [4/5], Step [400/600], Loss: 0.0303\n",
            "Epoch [4/5], Step [500/600], Loss: 0.0187\n",
            "Epoch [4/5], Step [600/600], Loss: 0.0122\n",
            "Epoch [5/5], Step [100/600], Loss: 0.0030\n",
            "Epoch [5/5], Step [200/600], Loss: 0.0239\n",
            "Epoch [5/5], Step [300/600], Loss: 0.0175\n",
            "Epoch [5/5], Step [400/600], Loss: 0.0408\n",
            "Epoch [5/5], Step [500/600], Loss: 0.0044\n",
            "Epoch [5/5], Step [600/600], Loss: 0.0125\n"
          ]
        }
      ]
    },
    {
      "cell_type": "markdown",
      "source": [
        "# Test the model"
      ],
      "metadata": {
        "id": "go51BwJAn1JY"
      }
    },
    {
      "cell_type": "code",
      "source": [
        "model.eval()   # eval mode (batchnorm uses moving mean/variance instead of mini-batch mean/variance)\n",
        "with torch.no_grad():\n",
        "  correct = 0\n",
        "  total=0\n",
        "  for images , labels in test_loader:\n",
        "    images = images.to(device)\n",
        "    labels =labels.to(device)\n",
        "    outputs =model(images)\n",
        "    _ ,predicted = torch.max(outputs.data ,1)\n",
        "    total += labels.size(0)\n",
        "    correct += (predicted == labels).sum().item()\n",
        "  print('Test Accuracy on 10000 images is : {} %'.format(100 * correct/total))\n",
        "\n",
        "torch.save(model.state_dict(), 'CNN_model.csv')"
      ],
      "metadata": {
        "colab": {
          "base_uri": "https://localhost:8080/"
        },
        "id": "ISmF38ovn04x",
        "outputId": "5520d2d8-74e8-40f8-a221-66530b82f616"
      },
      "execution_count": 17,
      "outputs": [
        {
          "output_type": "stream",
          "name": "stdout",
          "text": [
            "Test Accuracy on 10000 images is : 98.88 %\n"
          ]
        }
      ]
    }
  ]
}